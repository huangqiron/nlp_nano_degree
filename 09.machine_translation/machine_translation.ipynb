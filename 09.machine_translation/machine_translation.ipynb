{
 "cells": [
  {
   "cell_type": "markdown",
   "metadata": {
    "collapsed": true
   },
   "source": [
    "# Artificial Intelligence Nanodegree\n",
    "## Machine Translation Project\n",
    "In this notebook, sections that end with **'(IMPLEMENTATION)'** in the header indicate that the following blocks of code will require additional functionality which you must provide. Please be sure to read the instructions carefully!\n",
    "\n",
    "## Introduction\n",
    "In this notebook, you will build a deep neural network that functions as part of an end-to-end machine translation pipeline. Your completed pipeline will accept English text as input and return the French translation.\n",
    "\n",
    "- **Preprocess** - You'll convert text to sequence of integers.\n",
    "- **Models** Create models which accepts a sequence of integers as input and returns a probability distribution over possible translations. After learning about the basic types of neural networks that are often used for machine translation, you will engage in your own investigations, to design your own model!\n",
    "- **Prediction** Run the model on English text."
   ]
  },
  {
   "cell_type": "code",
   "execution_count": 1,
   "metadata": {},
   "outputs": [],
   "source": [
    "%load_ext autoreload\n",
    "%aimport helper, tests\n",
    "%autoreload 1"
   ]
  },
  {
   "cell_type": "code",
   "execution_count": 2,
   "metadata": {},
   "outputs": [
    {
     "name": "stderr",
     "output_type": "stream",
     "text": [
      "Using TensorFlow backend.\n"
     ]
    }
   ],
   "source": [
    "import collections\n",
    "\n",
    "import helper\n",
    "import numpy as np\n",
    "import project_tests as tests\n",
    "\n",
    "from keras.preprocessing.text import Tokenizer\n",
    "from keras.preprocessing.sequence import pad_sequences\n",
    "from keras.models import Model\n",
    "from keras.layers import GRU, Input, Dense, TimeDistributed, Activation, RepeatVector, Bidirectional\n",
    "from keras.layers.embeddings import Embedding\n",
    "from keras.optimizers import Adam\n",
    "from keras.losses import sparse_categorical_crossentropy"
   ]
  },
  {
   "cell_type": "markdown",
   "metadata": {},
   "source": [
    "### Verify access to the GPU\n",
    "The following test applies only if you expect to be using a GPU, e.g., while running in a Udacity Workspace or using an AWS instance with GPU support. Run the next cell, and verify that the device_type is \"GPU\".\n",
    "- If the device is not GPU & you are running from a Udacity Workspace, then save your workspace with the icon at the top, then click \"enable\" at the bottom of the workspace.\n",
    "- If the device is not GPU & you are running from an AWS instance, then refer to the cloud computing instructions in the classroom to verify your setup steps."
   ]
  },
  {
   "cell_type": "code",
   "execution_count": 3,
   "metadata": {},
   "outputs": [
    {
     "name": "stdout",
     "output_type": "stream",
     "text": [
      "[name: \"/cpu:0\"\n",
      "device_type: \"CPU\"\n",
      "memory_limit: 268435456\n",
      "locality {\n",
      "}\n",
      "incarnation: 15534273174825687322\n",
      ", name: \"/gpu:0\"\n",
      "device_type: \"GPU\"\n",
      "memory_limit: 357302272\n",
      "locality {\n",
      "  bus_id: 1\n",
      "}\n",
      "incarnation: 5840204778093611975\n",
      "physical_device_desc: \"device: 0, name: Tesla K80, pci bus id: 0000:00:04.0\"\n",
      "]\n"
     ]
    }
   ],
   "source": [
    "from tensorflow.python.client import device_lib\n",
    "print(device_lib.list_local_devices())"
   ]
  },
  {
   "cell_type": "markdown",
   "metadata": {},
   "source": [
    "## Dataset\n",
    "We begin by investigating the dataset that will be used to train and evaluate your pipeline.  The most common datasets used for machine translation are from [WMT](http://www.statmt.org/).  However, that will take a long time to train a neural network on.  We'll be using a dataset we created for this project that contains a small vocabulary.  You'll be able to train your model in a reasonable time with this dataset.\n",
    "### Load Data\n",
    "The data is located in `data/small_vocab_en` and `data/small_vocab_fr`. The `small_vocab_en` file contains English sentences with their French translations in the `small_vocab_fr` file. Load the English and French data from these files from running the cell below."
   ]
  },
  {
   "cell_type": "code",
   "execution_count": 4,
   "metadata": {},
   "outputs": [
    {
     "name": "stdout",
     "output_type": "stream",
     "text": [
      "Dataset Loaded\n"
     ]
    }
   ],
   "source": [
    "# Load English data\n",
    "english_sentences = helper.load_data('data/small_vocab_en')\n",
    "# Load French data\n",
    "french_sentences = helper.load_data('data/small_vocab_fr')\n",
    "\n",
    "print('Dataset Loaded')"
   ]
  },
  {
   "cell_type": "markdown",
   "metadata": {},
   "source": [
    "### Files\n",
    "Each line in `small_vocab_en` contains an English sentence with the respective translation in each line of `small_vocab_fr`.  View the first two lines from each file."
   ]
  },
  {
   "cell_type": "code",
   "execution_count": 5,
   "metadata": {},
   "outputs": [
    {
     "name": "stdout",
     "output_type": "stream",
     "text": [
      "small_vocab_en Line 1:  new jersey is sometimes quiet during autumn , and it is snowy in april .\n",
      "small_vocab_fr Line 1:  new jersey est parfois calme pendant l' automne , et il est neigeux en avril .\n",
      "small_vocab_en Line 2:  the united states is usually chilly during july , and it is usually freezing in november .\n",
      "small_vocab_fr Line 2:  les états-unis est généralement froid en juillet , et il gèle habituellement en novembre .\n"
     ]
    }
   ],
   "source": [
    "for sample_i in range(2):\n",
    "    print('small_vocab_en Line {}:  {}'.format(sample_i + 1, english_sentences[sample_i]))\n",
    "    print('small_vocab_fr Line {}:  {}'.format(sample_i + 1, french_sentences[sample_i]))"
   ]
  },
  {
   "cell_type": "markdown",
   "metadata": {},
   "source": [
    "From looking at the sentences, you can see they have been preprocessed already.  The puncuations have been delimited using spaces. All the text have been converted to lowercase.  This should save you some time, but the text requires more preprocessing.\n",
    "### Vocabulary\n",
    "The complexity of the problem is determined by the complexity of the vocabulary.  A more complex vocabulary is a more complex problem.  Let's look at the complexity of the dataset we'll be working with."
   ]
  },
  {
   "cell_type": "code",
   "execution_count": 6,
   "metadata": {},
   "outputs": [
    {
     "name": "stdout",
     "output_type": "stream",
     "text": [
      "1823250 English words.\n",
      "227 unique English words.\n",
      "10 Most common words in the English dataset:\n",
      "\"is\" \",\" \".\" \"in\" \"it\" \"during\" \"the\" \"but\" \"and\" \"sometimes\"\n",
      "\n",
      "1961295 French words.\n",
      "355 unique French words.\n",
      "10 Most common words in the French dataset:\n",
      "\"est\" \".\" \",\" \"en\" \"il\" \"les\" \"mais\" \"et\" \"la\" \"parfois\"\n"
     ]
    }
   ],
   "source": [
    "english_words_counter = collections.Counter([word for sentence in english_sentences for word in sentence.split()])\n",
    "french_words_counter = collections.Counter([word for sentence in french_sentences for word in sentence.split()])\n",
    "\n",
    "print('{} English words.'.format(len([word for sentence in english_sentences for word in sentence.split()])))\n",
    "print('{} unique English words.'.format(len(english_words_counter)))\n",
    "print('10 Most common words in the English dataset:')\n",
    "print('\"' + '\" \"'.join(list(zip(*english_words_counter.most_common(10)))[0]) + '\"')\n",
    "print()\n",
    "print('{} French words.'.format(len([word for sentence in french_sentences for word in sentence.split()])))\n",
    "print('{} unique French words.'.format(len(french_words_counter)))\n",
    "print('10 Most common words in the French dataset:')\n",
    "print('\"' + '\" \"'.join(list(zip(*french_words_counter.most_common(10)))[0]) + '\"')"
   ]
  },
  {
   "cell_type": "markdown",
   "metadata": {},
   "source": [
    "For comparison, _Alice's Adventures in Wonderland_ contains 2,766 unique words of a total of 15,500 words.\n",
    "## Preprocess\n",
    "For this project, you won't use text data as input to your model. Instead, you'll convert the text into sequences of integers using the following preprocess methods:\n",
    "1. Tokenize the words into ids\n",
    "2. Add padding to make all the sequences the same length.\n",
    "\n",
    "Time to start preprocessing the data...\n",
    "### Tokenize (IMPLEMENTATION)\n",
    "For a neural network to predict on text data, it first has to be turned into data it can understand. Text data like \"dog\" is a sequence of ASCII character encodings.  Since a neural network is a series of multiplication and addition operations, the input data needs to be number(s).\n",
    "\n",
    "We can turn each character into a number or each word into a number.  These are called character and word ids, respectively.  Character ids are used for character level models that generate text predictions for each character.  A word level model uses word ids that generate text predictions for each word.  Word level models tend to learn better, since they are lower in complexity, so we'll use those.\n",
    "\n",
    "Turn each sentence into a sequence of words ids using Keras's [`Tokenizer`](https://keras.io/preprocessing/text/#tokenizer) function. Use this function to tokenize `english_sentences` and `french_sentences` in the cell below.\n",
    "\n",
    "Running the cell will run `tokenize` on sample data and show output for debugging."
   ]
  },
  {
   "cell_type": "code",
   "execution_count": 7,
   "metadata": {},
   "outputs": [
    {
     "name": "stdout",
     "output_type": "stream",
     "text": [
      "{'the': 1, 'quick': 2, 'a': 3, 'brown': 4, 'fox': 5, 'jumps': 6, 'over': 7, 'lazy': 8, 'dog': 9, 'by': 10, 'jove': 11, 'my': 12, 'study': 13, 'of': 14, 'lexicography': 15, 'won': 16, 'prize': 17, 'this': 18, 'is': 19, 'short': 20, 'sentence': 21}\n",
      "\n",
      "Sequence 1 in x\n",
      "  Input:  The quick brown fox jumps over the lazy dog .\n",
      "  Output: [1, 2, 4, 5, 6, 7, 1, 8, 9]\n",
      "Sequence 2 in x\n",
      "  Input:  By Jove , my quick study of lexicography won a prize .\n",
      "  Output: [10, 11, 12, 2, 13, 14, 15, 16, 3, 17]\n",
      "Sequence 3 in x\n",
      "  Input:  This is a short sentence .\n",
      "  Output: [18, 19, 3, 20, 21]\n"
     ]
    }
   ],
   "source": [
    "def tokenize(x):\n",
    "    \"\"\"\n",
    "    Tokenize x\n",
    "    :param x: List of sentences/strings to be tokenized\n",
    "    :return: Tuple of (tokenized x data, tokenizer used to tokenize x)\n",
    "    \"\"\"\n",
    "   \n",
    "    x_token = Tokenizer()\n",
    "    x_token.fit_on_texts(x)\n",
    "    return x_token.texts_to_sequences(x), x_token\n",
    "\n",
    "tests.test_tokenize(tokenize)\n",
    "\n",
    "# Tokenize Example output\n",
    "text_sentences = [\n",
    "    'The quick brown fox jumps over the lazy dog .',\n",
    "    'By Jove , my quick study of lexicography won a prize .',\n",
    "    'This is a short sentence .']\n",
    "text_tokenized, text_tokenizer = tokenize(text_sentences)\n",
    "print(text_tokenizer.word_index)\n",
    "print()\n",
    "for sample_i, (sent, token_sent) in enumerate(zip(text_sentences, text_tokenized)):\n",
    "    print('Sequence {} in x'.format(sample_i + 1))\n",
    "    print('  Input:  {}'.format(sent))\n",
    "    print('  Output: {}'.format(token_sent))"
   ]
  },
  {
   "cell_type": "markdown",
   "metadata": {},
   "source": [
    "### Padding (IMPLEMENTATION)\n",
    "When batching the sequence of word ids together, each sequence needs to be the same length.  Since sentences are dynamic in length, we can add padding to the end of the sequences to make them the same length.\n",
    "\n",
    "Make sure all the English sequences have the same length and all the French sequences have the same length by adding padding to the **end** of each sequence using Keras's [`pad_sequences`](https://keras.io/preprocessing/sequence/#pad_sequences) function."
   ]
  },
  {
   "cell_type": "code",
   "execution_count": 8,
   "metadata": {},
   "outputs": [
    {
     "name": "stdout",
     "output_type": "stream",
     "text": [
      "Sequence 1 in x\n",
      "  Input:  [1 2 4 5 6 7 1 8 9]\n",
      "  Output: [1 2 4 5 6 7 1 8 9 0]\n",
      "Sequence 2 in x\n",
      "  Input:  [10 11 12  2 13 14 15 16  3 17]\n",
      "  Output: [10 11 12  2 13 14 15 16  3 17]\n",
      "Sequence 3 in x\n",
      "  Input:  [18 19  3 20 21]\n",
      "  Output: [18 19  3 20 21  0  0  0  0  0]\n"
     ]
    }
   ],
   "source": [
    "def pad(x, length=None):\n",
    "    \"\"\"\n",
    "    Pad x\n",
    "    :param x: List of sequences.\n",
    "    :param length: Length to pad the sequence to.  If None, use length of longest sequence in x.\n",
    "    :return: Padded numpy array of sequences\n",
    "    \"\"\"\n",
    "    \n",
    "    if length is None:\n",
    "        length = max([len(seq) for seq in x])    \n",
    "    return pad_sequences(sequences=x, maxlen=length, padding='post')\n",
    "    \n",
    "tests.test_pad(pad)\n",
    "\n",
    "# Pad Tokenized output\n",
    "test_pad = pad(text_tokenized)\n",
    "for sample_i, (token_sent, pad_sent) in enumerate(zip(text_tokenized, test_pad)):\n",
    "    print('Sequence {} in x'.format(sample_i + 1))\n",
    "    print('  Input:  {}'.format(np.array(token_sent)))\n",
    "    print('  Output: {}'.format(pad_sent))"
   ]
  },
  {
   "cell_type": "markdown",
   "metadata": {},
   "source": [
    "### Preprocess Pipeline\n",
    "Your focus for this project is to build neural network architecture, so we won't ask you to create a preprocess pipeline.  Instead, we've provided you with the implementation of the `preprocess` function."
   ]
  },
  {
   "cell_type": "code",
   "execution_count": 9,
   "metadata": {},
   "outputs": [
    {
     "name": "stdout",
     "output_type": "stream",
     "text": [
      "Data Preprocessed\n",
      "Max English sentence length: 15\n",
      "Max French sentence length: 21\n",
      "English vocabulary size: 199\n",
      "French vocabulary size: 344\n"
     ]
    }
   ],
   "source": [
    "def preprocess(x, y):\n",
    "    \"\"\"\n",
    "    Preprocess x and y\n",
    "    :param x: Feature List of sentences\n",
    "    :param y: Label List of sentences\n",
    "    :return: Tuple of (Preprocessed x, Preprocessed y, x tokenizer, y tokenizer)\n",
    "    \"\"\"\n",
    "    preprocess_x, x_tk = tokenize(x)\n",
    "    preprocess_y, y_tk = tokenize(y)\n",
    "\n",
    "    preprocess_x = pad(preprocess_x)\n",
    "    preprocess_y = pad(preprocess_y)\n",
    "\n",
    "    # Keras's sparse_categorical_crossentropy function requires the labels to be in 3 dimensions\n",
    "    preprocess_y = preprocess_y.reshape(*preprocess_y.shape, 1)\n",
    "\n",
    "    return preprocess_x, preprocess_y, x_tk, y_tk\n",
    "\n",
    "preproc_english_sentences, preproc_french_sentences, english_tokenizer, french_tokenizer =\\\n",
    "    preprocess(english_sentences, french_sentences)\n",
    "    \n",
    "max_english_sequence_length = preproc_english_sentences.shape[1]\n",
    "max_french_sequence_length = preproc_french_sentences.shape[1]\n",
    "english_vocab_size = len(english_tokenizer.word_index)\n",
    "french_vocab_size = len(french_tokenizer.word_index)\n",
    "\n",
    "print('Data Preprocessed')\n",
    "print(\"Max English sentence length:\", max_english_sequence_length)\n",
    "print(\"Max French sentence length:\", max_french_sequence_length)\n",
    "print(\"English vocabulary size:\", english_vocab_size)\n",
    "print(\"French vocabulary size:\", french_vocab_size)"
   ]
  },
  {
   "cell_type": "markdown",
   "metadata": {},
   "source": [
    "## Models\n",
    "In this section, you will experiment with various neural network architectures.\n",
    "You will begin by training four relatively simple architectures.\n",
    "- Model 1 is a simple RNN\n",
    "- Model 2 is a RNN with Embedding\n",
    "- Model 3 is a Bidirectional RNN\n",
    "- Model 4 is an optional Encoder-Decoder RNN\n",
    "\n",
    "After experimenting with the four simple architectures, you will construct a deeper architecture that is designed to outperform all four models.\n",
    "### Ids Back to Text\n",
    "The neural network will be translating the input to words ids, which isn't the final form we want.  We want the French translation.  The function `logits_to_text` will bridge the gab between the logits from the neural network to the French translation.  You'll be using this function to better understand the output of the neural network."
   ]
  },
  {
   "cell_type": "code",
   "execution_count": 10,
   "metadata": {},
   "outputs": [
    {
     "name": "stdout",
     "output_type": "stream",
     "text": [
      "`logits_to_text` function loaded.\n"
     ]
    }
   ],
   "source": [
    "def logits_to_text(logits, tokenizer):\n",
    "    \"\"\"\n",
    "    Turn logits from a neural network into text using the tokenizer\n",
    "    :param logits: Logits from a neural network\n",
    "    :param tokenizer: Keras Tokenizer fit on the labels\n",
    "    :return: String that represents the text of the logits\n",
    "    \"\"\"\n",
    "    index_to_words = {id: word for word, id in tokenizer.word_index.items()}\n",
    "    index_to_words[0] = '<PAD>'\n",
    "\n",
    "    return ' '.join([index_to_words[prediction] for prediction in np.argmax(logits, 1)])\n",
    "\n",
    "print('`logits_to_text` function loaded.')"
   ]
  },
  {
   "cell_type": "markdown",
   "metadata": {},
   "source": [
    "### Model 1: RNN (IMPLEMENTATION)\n",
    "![RNN](images/rnn.png)\n",
    "A basic RNN model is a good baseline for sequence data.  In this model, you'll build a RNN that translates English to French."
   ]
  },
  {
   "cell_type": "code",
   "execution_count": 11,
   "metadata": {
    "scrolled": false
   },
   "outputs": [
    {
     "name": "stdout",
     "output_type": "stream",
     "text": [
      "Train on 110288 samples, validate on 27573 samples\n",
      "Epoch 1/10\n",
      "110288/110288 [==============================] - 12s 113us/step - loss: 1.9362 - acc: 0.5515 - val_loss: nan - val_acc: 0.6166\n",
      "Epoch 2/10\n",
      "110288/110288 [==============================] - 12s 106us/step - loss: 1.2806 - acc: 0.6375 - val_loss: nan - val_acc: 0.6497\n",
      "Epoch 3/10\n",
      "110288/110288 [==============================] - 12s 107us/step - loss: 1.1119 - acc: 0.6628 - val_loss: nan - val_acc: 0.6724\n",
      "Epoch 4/10\n",
      "110288/110288 [==============================] - 12s 108us/step - loss: 1.0283 - acc: 0.6752 - val_loss: nan - val_acc: 0.6817\n",
      "Epoch 5/10\n",
      "110288/110288 [==============================] - 12s 108us/step - loss: 0.9633 - acc: 0.6855 - val_loss: nan - val_acc: 0.6924\n",
      "Epoch 6/10\n",
      "110288/110288 [==============================] - 12s 108us/step - loss: 0.9086 - acc: 0.6978 - val_loss: nan - val_acc: 0.7073\n",
      "Epoch 7/10\n",
      "110288/110288 [==============================] - 12s 107us/step - loss: 0.8647 - acc: 0.7094 - val_loss: nan - val_acc: 0.7150\n",
      "Epoch 8/10\n",
      "110288/110288 [==============================] - 12s 107us/step - loss: 0.8267 - acc: 0.7250 - val_loss: nan - val_acc: 0.7219\n",
      "Epoch 9/10\n",
      "110288/110288 [==============================] - 12s 107us/step - loss: 0.7871 - acc: 0.7436 - val_loss: nan - val_acc: 0.7624\n",
      "Epoch 10/10\n",
      "110288/110288 [==============================] - 12s 107us/step - loss: 0.7484 - acc: 0.7608 - val_loss: nan - val_acc: 0.7716\n",
      "new jersey est parfois chaud en mois de il et il est en en <PAD> <PAD> <PAD> <PAD> <PAD> <PAD> <PAD>\n"
     ]
    }
   ],
   "source": [
    "def simple_model(input_shape, output_sequence_length, english_vocab_size, french_vocab_size):\n",
    "    \"\"\"\n",
    "    Build and train a basic RNN on x and y\n",
    "    :param input_shape: Tuple of input shape\n",
    "    :param output_sequence_length: Length of output sequence\n",
    "    :param english_vocab_size: Number of unique English words in the dataset\n",
    "    :param french_vocab_size: Number of unique French words in the dataset\n",
    "    :return: Keras model built, but not trained\n",
    "    \"\"\"\n",
    "    \n",
    "    learning_rate = 0.002\n",
    "    \n",
    "    input_seq = Input(shape=input_shape[1:])\n",
    "    rnn = GRU(units=english_vocab_size, return_sequences=True)(input_seq)\n",
    "    logits = TimeDistributed(Dense(units=french_vocab_size))(rnn) \n",
    "                             \n",
    "    model = Model(input_seq, Activation('softmax')(logits))\n",
    "    model.compile(\n",
    "        loss=sparse_categorical_crossentropy,\n",
    "        optimizer=Adam(learning_rate),\n",
    "        metrics=['accuracy']\n",
    "    )\n",
    "    return model\n",
    "\n",
    "tests.test_simple_model(simple_model)\n",
    "\n",
    "# Reshaping the input to work with a basic RNN\n",
    "x_ = pad(preproc_english_sentences, max_french_sequence_length).reshape((-1, preproc_french_sentences.shape[-2], 1))\n",
    "\n",
    "# Train the neural network\n",
    "simple_rnn_model = simple_model(\n",
    "    x_.shape,\n",
    "    max_french_sequence_length,\n",
    "    english_vocab_size,\n",
    "    french_vocab_size\n",
    ")\n",
    "simple_rnn_model.fit(x_, preproc_french_sentences, batch_size=512, epochs=10, validation_split=0.2)\n",
    "\n",
    "# Print prediction(s)\n",
    "print(logits_to_text(simple_rnn_model.predict(x_[:1])[0], french_tokenizer))"
   ]
  },
  {
   "cell_type": "markdown",
   "metadata": {},
   "source": [
    "### Model 2: Embedding (IMPLEMENTATION)\n",
    "![RNN](images/embedding.png)\n",
    "You've turned the words into ids, but there's a better representation of a word.  This is called word embeddings.  An embedding is a vector representation of the word that is close to similar words in n-dimensional space, where the n represents the size of the embedding vectors.\n",
    "\n",
    "In this model, you'll create a RNN model using embedding."
   ]
  },
  {
   "cell_type": "code",
   "execution_count": 12,
   "metadata": {},
   "outputs": [
    {
     "name": "stdout",
     "output_type": "stream",
     "text": [
      "Train on 110288 samples, validate on 27573 samples\n",
      "Epoch 1/10\n",
      "110288/110288 [==============================] - 17s 151us/step - loss: 1.7084 - acc: 0.6390 - val_loss: 0.6381 - val_acc: 0.8183\n",
      "Epoch 2/10\n",
      "110288/110288 [==============================] - 16s 149us/step - loss: 0.4647 - acc: 0.8586 - val_loss: 0.3560 - val_acc: 0.8864\n",
      "Epoch 3/10\n",
      "110288/110288 [==============================] - 16s 149us/step - loss: 0.3094 - acc: 0.9004 - val_loss: 0.2746 - val_acc: 0.9106\n",
      "Epoch 4/10\n",
      "110288/110288 [==============================] - 16s 149us/step - loss: 0.2527 - acc: 0.9169 - val_loss: 0.2400 - val_acc: 0.9203\n",
      "Epoch 5/10\n",
      "110288/110288 [==============================] - 16s 149us/step - loss: 0.2243 - acc: 0.9245 - val_loss: 0.2213 - val_acc: 0.9253\n",
      "Epoch 6/10\n",
      "110288/110288 [==============================] - 16s 149us/step - loss: 0.2066 - acc: 0.9292 - val_loss: 0.2079 - val_acc: 0.9284\n",
      "Epoch 7/10\n",
      "110288/110288 [==============================] - 16s 149us/step - loss: 0.1954 - acc: 0.9321 - val_loss: 0.2031 - val_acc: 0.9302\n",
      "Epoch 8/10\n",
      "110288/110288 [==============================] - 16s 148us/step - loss: 0.1864 - acc: 0.9343 - val_loss: 0.1934 - val_acc: 0.9328\n",
      "Epoch 9/10\n",
      "110288/110288 [==============================] - 16s 149us/step - loss: 0.1797 - acc: 0.9359 - val_loss: 0.1884 - val_acc: 0.9347\n",
      "Epoch 10/10\n",
      "110288/110288 [==============================] - 16s 149us/step - loss: 0.1756 - acc: 0.9371 - val_loss: 0.1893 - val_acc: 0.9341\n",
      "new jersey est parfois calme en l' automne et il est neigeux en avril <PAD> <PAD> <PAD> <PAD> <PAD> <PAD> <PAD>\n"
     ]
    }
   ],
   "source": [
    "def embed_model(input_shape, output_sequence_length, english_vocab_size, french_vocab_size):\n",
    "    \"\"\"\n",
    "    Build and train a RNN model using word embedding on x and y\n",
    "    :param input_shape: Tuple of input shape\n",
    "    :param output_sequence_length: Length of output sequence\n",
    "    :param english_vocab_size: Number of unique English words in the dataset\n",
    "    :param french_vocab_size: Number of unique French words in the dataset\n",
    "    :return: Keras model built, but not trained\n",
    "    \"\"\"\n",
    "    \n",
    "    embedding_size = 256\n",
    "    rnn_cells = 256\n",
    "    dropout = 0.0\n",
    "    learning_rate = 0.002\n",
    "    \n",
    "    input_seq = Input(shape=input_shape[1:])     \n",
    "    embedded_seq = Embedding(\n",
    "        input_dim = english_vocab_size, \n",
    "        output_dim = embedding_size,\n",
    "        input_length=input_shape[1:][0]\n",
    "    )(input_seq)    \n",
    "    rnn = GRU(units=rnn_cells, dropout=dropout, return_sequences=True)(embedded_seq)\n",
    "    logits = TimeDistributed(Dense(units=french_vocab_size))(rnn) \n",
    "    \n",
    "    model = Model(input_seq, Activation('softmax')(logits))\n",
    "    model.compile(\n",
    "        loss=sparse_categorical_crossentropy,\n",
    "        optimizer=Adam(learning_rate),\n",
    "        metrics=['accuracy']\n",
    "    )\n",
    "    return model    \n",
    " \n",
    "tests.test_embed_model(embed_model)\n",
    "\n",
    "x_ = pad(preproc_english_sentences, max_french_sequence_length)\n",
    "\n",
    "embed_rnn_model = embed_model(\n",
    "    input_shape = x_.shape,\n",
    "    output_sequence_length = max_french_sequence_length,\n",
    "    english_vocab_size = english_vocab_size + 1,\n",
    "    french_vocab_size = french_vocab_size + 1\n",
    ")\n",
    "embed_rnn_model.fit(x_, preproc_french_sentences, batch_size=512, epochs=10, validation_split=0.2)\n",
    "\n",
    "print(logits_to_text(embed_rnn_model.predict(x_[:1])[0], french_tokenizer))"
   ]
  },
  {
   "cell_type": "markdown",
   "metadata": {},
   "source": [
    "### Model 3: Bidirectional RNNs (IMPLEMENTATION)\n",
    "![RNN](images/bidirectional.png)\n",
    "One restriction of a RNN is that it can't see the future input, only the past.  This is where bidirectional recurrent neural networks come in.  They are able to see the future data."
   ]
  },
  {
   "cell_type": "code",
   "execution_count": 13,
   "metadata": {},
   "outputs": [
    {
     "name": "stdout",
     "output_type": "stream",
     "text": [
      "Train on 110288 samples, validate on 27573 samples\n",
      "Epoch 1/10\n",
      "110288/110288 [==============================] - 21s 186us/step - loss: 1.8590 - acc: 0.5607 - val_loss: 1.3472 - val_acc: 0.6302\n",
      "Epoch 2/10\n",
      "110288/110288 [==============================] - 20s 180us/step - loss: 1.2244 - acc: 0.6463 - val_loss: 1.1373 - val_acc: 0.6578\n",
      "Epoch 3/10\n",
      "110288/110288 [==============================] - 20s 181us/step - loss: 1.0673 - acc: 0.6689 - val_loss: 1.0117 - val_acc: 0.6760\n",
      "Epoch 4/10\n",
      "110288/110288 [==============================] - 20s 181us/step - loss: 0.9748 - acc: 0.6828 - val_loss: 0.9410 - val_acc: 0.6837\n",
      "Epoch 5/10\n",
      "110288/110288 [==============================] - 20s 181us/step - loss: 0.9034 - acc: 0.6970 - val_loss: 0.9132 - val_acc: 0.6948\n",
      "Epoch 6/10\n",
      "110288/110288 [==============================] - 20s 180us/step - loss: 0.8500 - acc: 0.7101 - val_loss: 0.8335 - val_acc: 0.7192\n",
      "Epoch 7/10\n",
      "110288/110288 [==============================] - 20s 180us/step - loss: 0.8076 - acc: 0.7264 - val_loss: 0.7811 - val_acc: 0.7416\n",
      "Epoch 8/10\n",
      "110288/110288 [==============================] - 20s 180us/step - loss: 0.7647 - acc: 0.7471 - val_loss: 0.7249 - val_acc: 0.7679\n",
      "Epoch 9/10\n",
      "110288/110288 [==============================] - 20s 180us/step - loss: 0.7121 - acc: 0.7698 - val_loss: 0.6918 - val_acc: 0.7783\n",
      "Epoch 10/10\n",
      "110288/110288 [==============================] - 20s 180us/step - loss: 0.6718 - acc: 0.7860 - val_loss: 0.6635 - val_acc: 0.7963\n",
      "new jersey est parfois calme en mois de il est chaud en en en <PAD> <PAD> <PAD> <PAD> <PAD> <PAD> <PAD>\n"
     ]
    }
   ],
   "source": [
    "from keras.layers import concatenate, add\n",
    "def bd_model(input_shape, output_sequence_length, english_vocab_size, french_vocab_size):\n",
    "    \"\"\"\n",
    "    Build and train a bidirectional RNN model on x and y\n",
    "    :param input_shape: Tuple of input shape\n",
    "    :param output_sequence_length: Length of output sequence\n",
    "    :param english_vocab_size: Number of unique English words in the dataset\n",
    "    :param french_vocab_size: Number of unique French words in the dataset\n",
    "    :return: Keras model built, but not trained\n",
    "    \"\"\"\n",
    "    \n",
    "    dropout = 0.0\n",
    "    learning_rate = 0.002 \n",
    "    \n",
    "    input_seq = Input(shape=input_shape[1:])\n",
    "    right_rnn = GRU(units=english_vocab_size, return_sequences=True, go_backwards=False)(input_seq)\n",
    "    left_rnn = GRU(units=english_vocab_size, return_sequences=True, go_backwards=True)(input_seq)     \n",
    "    logits = TimeDistributed(Dense(units=french_vocab_size))(concatenate([right_rnn, left_rnn])) \n",
    "        \n",
    "    model = Model(input_seq, Activation('softmax')(logits))\n",
    "    model.compile(\n",
    "        loss=sparse_categorical_crossentropy,\n",
    "        optimizer=Adam(lr=learning_rate),\n",
    "        metrics=['accuracy']\n",
    "    )  \n",
    "    return model\n",
    "    \n",
    "tests.test_bd_model(bd_model)\n",
    "\n",
    "x_ = pad(preproc_english_sentences, max_french_sequence_length).reshape((-1, preproc_french_sentences.shape[-2], 1))\n",
    "\n",
    "bd_rnn_model = bd_model(\n",
    "    input_shape = x_.shape,\n",
    "    output_sequence_length = max_french_sequence_length,\n",
    "    english_vocab_size = english_vocab_size + 1,\n",
    "    french_vocab_size = french_vocab_size + 1\n",
    ")\n",
    "bd_rnn_model.fit(x_, preproc_french_sentences, batch_size=512, epochs=10, validation_split=0.2)\n",
    "\n",
    "print(logits_to_text(bd_rnn_model.predict(x_[:1])[0], french_tokenizer))"
   ]
  },
  {
   "cell_type": "markdown",
   "metadata": {},
   "source": [
    "### Model 4: Encoder-Decoder (OPTIONAL)\n",
    "Time to look at encoder-decoder models.  This model is made up of an encoder and decoder. The encoder creates a matrix representation of the sentence.  The decoder takes this matrix as input and predicts the translation as output.\n",
    "\n",
    "Create an encoder-decoder model in the cell below."
   ]
  },
  {
   "cell_type": "code",
   "execution_count": 14,
   "metadata": {},
   "outputs": [
    {
     "name": "stdout",
     "output_type": "stream",
     "text": [
      "Train on 110288 samples, validate on 27573 samples\n",
      "Epoch 1/10\n",
      "110288/110288 [==============================] - 24s 218us/step - loss: 2.1121 - acc: 0.5254 - val_loss: 1.5310 - val_acc: 0.5887\n",
      "Epoch 2/10\n",
      "110288/110288 [==============================] - 23s 213us/step - loss: 1.4061 - acc: 0.6098 - val_loss: 1.2997 - val_acc: 0.6287\n",
      "Epoch 3/10\n",
      "110288/110288 [==============================] - 23s 213us/step - loss: 1.2581 - acc: 0.6358 - val_loss: 1.1870 - val_acc: 0.6470\n",
      "Epoch 4/10\n",
      "110288/110288 [==============================] - 23s 212us/step - loss: 1.1433 - acc: 0.6577 - val_loss: 1.1052 - val_acc: 0.6670\n",
      "Epoch 5/10\n",
      "110288/110288 [==============================] - 23s 212us/step - loss: 1.0947 - acc: 0.6667 - val_loss: 1.0185 - val_acc: 0.6834\n",
      "Epoch 6/10\n",
      "110288/110288 [==============================] - 23s 212us/step - loss: 1.0232 - acc: 0.6811 - val_loss: 1.0229 - val_acc: 0.6789\n",
      "Epoch 7/10\n",
      "110288/110288 [==============================] - 23s 213us/step - loss: 0.9617 - acc: 0.6950 - val_loss: 1.0795 - val_acc: 0.6603\n",
      "Epoch 8/10\n",
      "110288/110288 [==============================] - 24s 215us/step - loss: 0.9417 - acc: 0.6946 - val_loss: 0.9149 - val_acc: 0.7009\n",
      "Epoch 9/10\n",
      "110288/110288 [==============================] - 24s 215us/step - loss: 0.8775 - acc: 0.7119 - val_loss: 0.8132 - val_acc: 0.7278\n",
      "Epoch 10/10\n",
      "110288/110288 [==============================] - 24s 215us/step - loss: 0.8227 - acc: 0.7242 - val_loss: 0.7760 - val_acc: 0.7381\n",
      "new jersey est parfois calme au mois de il est il est en en <PAD> <PAD> <PAD> <PAD> <PAD> <PAD> <PAD>\n"
     ]
    }
   ],
   "source": [
    "from keras.layers import LSTM\n",
    "def encdec_model(input_shape, output_sequence_length, english_vocab_size, french_vocab_size):\n",
    "    \"\"\"\n",
    "    Build and train an encoder-decoder model on x and y\n",
    "    :param input_shape: Tuple of input shape\n",
    "    :param output_sequence_length: Length of output sequence\n",
    "    :param english_vocab_size: Number of unique English words in the dataset\n",
    "    :param french_vocab_size: Number of unique French words in the dataset\n",
    "    :return: Keras model built, but not trained\n",
    "    \"\"\"\n",
    "\n",
    "  \n",
    "embedding_size = 256\n",
    "    rnn_cells = 256\n",
    "    dropout = 0.0\n",
    "    learning_rate = 0.002\n",
    "        \n",
    "    encoder_input_seq = Input(shape=input_shape[1:], name=\"enc_input\")   \n",
    "    encoder_output, state_t = GRU(\n",
    "        units=rnn_cells, \n",
    "        dropout=dropout,\n",
    "        return_sequences=False,\n",
    "        return_state=True,\n",
    "        name=\"enc_rnn\"\n",
    "    )(encoder_input_seq) \n",
    "    decoder_input_seq = RepeatVector(output_sequence_length)(encoder_output)\n",
    "    decoder_out = GRU(\n",
    "        units=rnn_cells,\n",
    "        dropout=dropout,\n",
    "        return_sequences=True,\n",
    "        return_state=False\n",
    "    )(decoder_input_seq, initial_state=state_t)                                        \n",
    "    logits = TimeDistributed(Dense(units=french_vocab_size))(decoder_out) \n",
    "    \n",
    "    model = Model(encoder_input_seq, Activation('softmax')(logits))\n",
    "    model.compile(\n",
    "        loss=sparse_categorical_crossentropy,\n",
    "        optimizer=Adam(learning_rate),\n",
    "        metrics=['accuracy']\n",
    "    )     \n",
    "    return model    \n",
    "    \n",
    "# Unitary tests\n",
    "tests.test_encdec_model(encdec_model)\n",
    "\n",
    "x_ = pad(preproc_english_sentences, max_french_sequence_length).reshape((-1, preproc_french_sentences.shape[-2], 1))\n",
    "\n",
    "encdec_rnn_model = encdec_model(\n",
    "    input_shape = x_.shape,\n",
    "    output_sequence_length = max_french_sequence_length,\n",
    "    english_vocab_size = english_vocab_size + 1,\n",
    "    french_vocab_size = french_vocab_size + 1\n",
    ")    \n",
    "encdec_rnn_model.fit(x_, preproc_french_sentences, batch_size=512, epochs=10, validation_split=0.2) \n",
    "\n",
    "print(logits_to_text(encdec_rnn_model.predict(x_[:1])[0], french_tokenizer))"
   ]
  },
  {
   "cell_type": "markdown",
   "metadata": {},
   "source": [
    "### Model 5: Custom (IMPLEMENTATION)\n",
    "Use everything you learned from the previous models to create a model that incorporates embedding and a bidirectional rnn into one model."
   ]
  },
  {
   "cell_type": "code",
   "execution_count": 15,
   "metadata": {},
   "outputs": [
    {
     "name": "stdout",
     "output_type": "stream",
     "text": [
      "Train on 110288 samples, validate on 27573 samples\n",
      "Epoch 1/10\n",
      "110288/110288 [==============================] - 70s 637us/step - loss: 1.8200 - acc: 0.5772 - val_loss: nan - val_acc: 0.7052\n",
      "Epoch 2/10\n",
      "110288/110288 [==============================] - 69s 626us/step - loss: 0.8732 - acc: 0.7478 - val_loss: nan - val_acc: 0.8061\n",
      "Epoch 3/10\n",
      "110288/110288 [==============================] - 69s 622us/step - loss: 0.4821 - acc: 0.8549 - val_loss: nan - val_acc: 0.9078\n",
      "Epoch 4/10\n",
      "110288/110288 [==============================] - 69s 624us/step - loss: 0.2554 - acc: 0.9258 - val_loss: nan - val_acc: 0.9452\n",
      "Epoch 5/10\n",
      "110288/110288 [==============================] - 69s 625us/step - loss: 0.1600 - acc: 0.9522 - val_loss: nan - val_acc: 0.9599\n",
      "Epoch 6/10\n",
      "110288/110288 [==============================] - 69s 625us/step - loss: 0.1199 - acc: 0.9635 - val_loss: nan - val_acc: 0.9670\n",
      "Epoch 7/10\n",
      "110288/110288 [==============================] - 69s 625us/step - loss: 0.1011 - acc: 0.9687 - val_loss: nan - val_acc: 0.9708\n",
      "Epoch 8/10\n",
      "110288/110288 [==============================] - 69s 622us/step - loss: 0.0849 - acc: 0.9738 - val_loss: nan - val_acc: 0.9737\n",
      "Epoch 9/10\n",
      "110288/110288 [==============================] - 69s 625us/step - loss: 0.0720 - acc: 0.9778 - val_loss: nan - val_acc: 0.9737\n",
      "Epoch 10/10\n",
      "110288/110288 [==============================] - 69s 625us/step - loss: 0.0657 - acc: 0.9798 - val_loss: nan - val_acc: 0.9769\n",
      "new jersey est parfois calme pendant l' automne et il est neigeux en avril <PAD> <PAD> <PAD> <PAD> <PAD> <PAD> <PAD>\n"
     ]
    }
   ],
   "source": [
    "from keras.layers import LSTM, concatenate\n",
    "def model_final(input_shape, output_sequence_length, english_vocab_size, french_vocab_size):\n",
    "    \"\"\"\n",
    "    Build and train a model that incorporates embedding, encoder-decoder, and bidirectional RNN on x and y\n",
    "    :param input_shape: Tuple of input shape\n",
    "    :param output_sequence_length: Length of output sequence\n",
    "    :param english_vocab_size: Number of unique English words in the dataset\n",
    "    :param french_vocab_size: Number of unique French words in the dataset\n",
    "    :return: Keras model built, but not trained\n",
    "    \"\"\" \n",
    "    \n",
    "    embedding_size = 256\n",
    "    rnn_cells = 256\n",
    "    dropout = 0.2\n",
    "    learning_rate = 0.002    \n",
    "\n",
    "  \n",
    "    encoder_input_seq = Input(shape=input_shape[1:])\n",
    "    embedded_input_seq=Embedding(\n",
    "        input_dim=english_vocab_size, \n",
    "        output_dim=embedding_size,\n",
    "        input_length=input_shape[1:][0]\n",
    "    )(encoder_input_seq)\n",
    "    forward_encoder_output, forward_state_h, forward_state_c = LSTM(\n",
    "        units=rnn_cells, \n",
    "        dropout=dropout,\n",
    "        return_sequences=False,\n",
    "        return_state=True, \n",
    "        go_backwards=False\n",
    "    )(embedded_input_seq)\n",
    "    backward_encoder_output, backward_state_h, backward_state_c = LSTM(\n",
    "        units=rnn_cells, \n",
    "        dropout=dropout,\n",
    "        return_sequences=False,\n",
    "        return_state=True, \n",
    "        go_backwards=True\n",
    "    )(embedded_input_seq)\n",
    "         \n",
    "    state_h=concatenate([forward_state_h,backward_state_h])\n",
    "    state_c=concatenate([forward_state_c,backward_state_c])\n",
    "    encoder_output=concatenate([forward_encoder_output,backward_encoder_output])\n",
    "    decoder_input_seq = RepeatVector(output_sequence_length)(encoder_output)\n",
    "    decoder_out = LSTM(\n",
    "        units=rnn_cells*2,\n",
    "        return_sequences=True,\n",
    "        return_state=False\n",
    "    )(decoder_input_seq, initial_state=[state_h, state_c])\n",
    "    logits = TimeDistributed(Dense(units=french_vocab_size))(decoder_out) \n",
    "    \n",
    "    model = Model(encoder_input_seq, Activation('softmax')(logits))\n",
    "    model.compile(\n",
    "        loss=sparse_categorical_crossentropy,\n",
    "        optimizer=Adam(learning_rate),\n",
    "        metrics=['accuracy']\n",
    "    )\n",
    "    return model \n",
    "\n",
    "tests.test_model_final(model_final)\n",
    "\n",
    "x_ = pad(preproc_english_sentences, max_french_sequence_length)\n",
    "\n",
    "final_model = model_final(\n",
    "    x_.shape,\n",
    "    max_french_sequence_length,\n",
    "    english_vocab_size,\n",
    "    french_vocab_size\n",
    ")\n",
    "final_model.fit(x_, preproc_french_sentences, batch_size=512, epochs=10, validation_split=0.2)\n",
    "\n",
    "print(logits_to_text(final_model.predict(x_[:1])[0], french_tokenizer))    "
   ]
  },
  {
   "cell_type": "markdown",
   "metadata": {},
   "source": [
    "## Prediction (IMPLEMENTATION)"
   ]
  },
  {
   "cell_type": "code",
   "execution_count": 17,
   "metadata": {},
   "outputs": [
    {
     "name": "stdout",
     "output_type": "stream",
     "text": [
      "Train on 110288 samples, validate on 27573 samples\n",
      "Epoch 1/20\n",
      "110288/110288 [==============================] - 62s 564us/step - loss: 1.7938 - acc: 0.5790 - val_loss: 1.1016 - val_acc: 0.6925\n",
      "Epoch 2/20\n",
      "110288/110288 [==============================] - 61s 550us/step - loss: 0.8080 - acc: 0.7626 - val_loss: 0.5722 - val_acc: 0.8250\n",
      "Epoch 3/20\n",
      "110288/110288 [==============================] - 60s 547us/step - loss: 0.4222 - acc: 0.8728 - val_loss: 0.2798 - val_acc: 0.9204\n",
      "Epoch 4/20\n",
      "110288/110288 [==============================] - 60s 546us/step - loss: 0.2288 - acc: 0.9318 - val_loss: 0.1723 - val_acc: 0.9482\n",
      "Epoch 5/20\n",
      "110288/110288 [==============================] - 60s 547us/step - loss: 0.1525 - acc: 0.9535 - val_loss: 0.1302 - val_acc: 0.9605\n",
      "Epoch 6/20\n",
      "110288/110288 [==============================] - 60s 546us/step - loss: 0.1178 - acc: 0.9633 - val_loss: 0.1209 - val_acc: 0.9630\n",
      "Epoch 7/20\n",
      "110288/110288 [==============================] - 61s 549us/step - loss: 0.1142 - acc: 0.9649 - val_loss: 0.1000 - val_acc: 0.9690\n",
      "Epoch 8/20\n",
      "110288/110288 [==============================] - 61s 552us/step - loss: 0.0814 - acc: 0.9745 - val_loss: 0.0897 - val_acc: 0.9721\n",
      "Epoch 9/20\n",
      "110288/110288 [==============================] - 61s 555us/step - loss: 0.0708 - acc: 0.9777 - val_loss: 0.0825 - val_acc: 0.9745\n",
      "Epoch 10/20\n",
      "110288/110288 [==============================] - 61s 553us/step - loss: 0.0620 - acc: 0.9805 - val_loss: 0.0757 - val_acc: 0.9762\n",
      "Epoch 11/20\n",
      "110288/110288 [==============================] - 61s 555us/step - loss: 0.0550 - acc: 0.9828 - val_loss: 0.0684 - val_acc: 0.9787\n",
      "Epoch 12/20\n",
      "110288/110288 [==============================] - 61s 553us/step - loss: 0.0484 - acc: 0.9849 - val_loss: 0.0736 - val_acc: 0.9774\n",
      "Epoch 13/20\n",
      "110288/110288 [==============================] - 61s 555us/step - loss: 0.0452 - acc: 0.9857 - val_loss: 0.0633 - val_acc: 0.9810\n",
      "Epoch 14/20\n",
      "110288/110288 [==============================] - 61s 553us/step - loss: 0.0380 - acc: 0.9880 - val_loss: 0.0663 - val_acc: 0.9802\n",
      "Epoch 15/20\n",
      "110288/110288 [==============================] - 61s 555us/step - loss: 0.0363 - acc: 0.9888 - val_loss: 0.0724 - val_acc: 0.9790\n",
      "Epoch 16/20\n",
      "110288/110288 [==============================] - 61s 552us/step - loss: 0.0417 - acc: 0.9870 - val_loss: 0.0641 - val_acc: 0.9812\n",
      "Epoch 17/20\n",
      "110288/110288 [==============================] - 61s 553us/step - loss: 0.0332 - acc: 0.9898 - val_loss: 0.0644 - val_acc: 0.9820\n",
      "Epoch 18/20\n",
      "110288/110288 [==============================] - 61s 553us/step - loss: 0.0300 - acc: 0.9907 - val_loss: 0.0611 - val_acc: 0.9830\n",
      "Epoch 19/20\n",
      "110288/110288 [==============================] - 61s 555us/step - loss: 0.0265 - acc: 0.9919 - val_loss: 0.0587 - val_acc: 0.9841\n",
      "Epoch 20/20\n",
      "110288/110288 [==============================] - 61s 553us/step - loss: 0.0301 - acc: 0.9909 - val_loss: 0.0606 - val_acc: 0.9837\n",
      "Sample 1:\n",
      "il a vu un vieux camion jaune <PAD> <PAD> <PAD> <PAD> <PAD> <PAD> <PAD> <PAD> <PAD> <PAD> <PAD> <PAD> <PAD> <PAD>\n",
      "Il a vu un vieux camion jaune\n",
      "Sample 2:\n",
      "new jersey est parfois calme pendant l' automne et il est neigeux en avril <PAD> <PAD> <PAD> <PAD> <PAD> <PAD> <PAD>\n",
      "new jersey est parfois calme pendant l' automne et il est neigeux en avril <PAD> <PAD> <PAD> <PAD> <PAD> <PAD> <PAD>\n"
     ]
    }
   ],
   "source": [
    "def final_predictions(x, y, x_tk, y_tk):\n",
    "    \"\"\"\n",
    "    Gets predictions using the final model\n",
    "    :param x: Preprocessed English data\n",
    "    :param y: Preprocessed French data\n",
    "    :param x_tk: English tokenizer\n",
    "    :param y_tk: French tokenizer\n",
    "    \"\"\"\n",
    "\n",
    "    model = model_final(\n",
    "        input_shape = x.shape,\n",
    "        output_sequence_length = y.shape[1],\n",
    "        english_vocab_size = len(x_tk.word_index) + 1,\n",
    "        french_vocab_size = len(y_tk.word_index) + 1\n",
    "    )\n",
    "    model.fit(x, y, batch_size=512, epochs=20, validation_split=0.2)\n",
    "    \n",
    "    ## DON'T EDIT ANYTHING BELOW THIS LINE\n",
    "    y_id_to_word = {value: key for key, value in y_tk.word_index.items()}\n",
    "    y_id_to_word[0] = '<PAD>'\n",
    "\n",
    "    sentence = 'he saw a old yellow truck'\n",
    "    sentence = [x_tk.word_index[word] for word in sentence.split()]\n",
    "    sentence = pad_sequences([sentence], maxlen=x.shape[-1], padding='post')\n",
    "    sentences = np.array([sentence[0], x[0]])\n",
    "    predictions = model.predict(sentences, len(sentences))\n",
    "\n",
    "    print('Sample 1:')\n",
    "    print(' '.join([y_id_to_word[np.argmax(x)] for x in predictions[0]]))\n",
    "    print('Il a vu un vieux camion jaune')\n",
    "    print('Sample 2:')\n",
    "    print(' '.join([y_id_to_word[np.argmax(x)] for x in predictions[1]]))\n",
    "    print(' '.join([y_id_to_word[np.max(x)] for x in y[0]]))\n",
    "\n",
    "\n",
    "final_predictions(preproc_english_sentences, preproc_french_sentences, english_tokenizer, french_tokenizer)"
   ]
  },
  {
   "cell_type": "markdown",
   "metadata": {},
   "source": [
    "## Submission\n",
    "When you're ready to submit, complete the following steps:\n",
    "1. Review the [rubric](https://review.udacity.com/#!/rubrics/1004/view) to ensure your submission meets all requirements to pass\n",
    "2. Generate an HTML version of this notebook\n",
    "\n",
    "  - Run the next cell to attempt automatic generation (this is the recommended method in Workspaces)\n",
    "  - Navigate to **FILE -> Download as -> HTML (.html)**\n",
    "  - Manually generate a copy using `nbconvert` from your shell terminal\n",
    "```\n",
    "$ pip install nbconvert\n",
    "$ python -m nbconvert machine_translation.ipynb\n",
    "```\n",
    "  \n",
    "3. Submit the project\n",
    "\n",
    "  - If you are in a Workspace, simply click the \"Submit Project\" button (bottom towards the right)\n",
    "  \n",
    "  - Otherwise, add the following files into a zip archive and submit them \n",
    "  - `helper.py`\n",
    "  - `machine_translation.ipynb`\n",
    "  - `machine_translation.html`\n",
    "    - You can export the notebook by navigating to **File -> Download as -> HTML (.html)**."
   ]
  },
  {
   "cell_type": "markdown",
   "metadata": {},
   "source": [
    "### Generate the html\n",
    "\n",
    "**Save your notebook before running the next cell to generate the HTML output.** Then submit your project."
   ]
  },
  {
   "cell_type": "code",
   "execution_count": 18,
   "metadata": {},
   "outputs": [
    {
     "data": {
      "text/plain": [
       "['[NbConvertApp] Converting notebook machine_translation.ipynb to html',\n",
       " '[NbConvertApp] Writing 376575 bytes to machine_translation.html',\n",
       " '[NbConvertApp] Converting notebook machine_translation-zh.ipynb to html',\n",
       " '[NbConvertApp] Writing 328614 bytes to machine_translation-zh.html']"
      ]
     },
     "execution_count": 18,
     "metadata": {},
     "output_type": "execute_result"
    }
   ],
   "source": [
    "# Save before you run this cell!\n",
    "!!jupyter nbconvert *.ipynb"
   ]
  },
  {
   "cell_type": "markdown",
   "metadata": {},
   "source": [
    "## Optional Enhancements\n",
    "\n",
    "This project focuses on learning various network architectures for machine translation, but we don't evaluate the models according to best practices by splitting the data into separate test & training sets -- so the model accuracy is overstated. Use the [`sklearn.model_selection.train_test_split()`](http://scikit-learn.org/stable/modules/generated/sklearn.model_selection.train_test_split.html) function to create separate training & test datasets, then retrain each of the models using only the training set and evaluate the prediction accuracy using the hold out test set. Does the \"best\" model change?"
   ]
  }
 ],
 "metadata": {
  "kernelspec": {
   "display_name": "Python 3",
   "language": "python",
   "name": "python3"
  },
  "language_info": {
   "codemirror_mode": {
    "name": "ipython",
    "version": 3
   },
   "file_extension": ".py",
   "mimetype": "text/x-python",
   "name": "python",
   "nbconvert_exporter": "python",
   "pygments_lexer": "ipython3",
   "version": "3.6.3"
  }
 },
 "nbformat": 4,
 "nbformat_minor": 1
}
