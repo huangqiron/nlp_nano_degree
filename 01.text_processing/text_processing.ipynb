{
 "cells": [
  {
   "cell_type": "markdown",
   "metadata": {},
   "source": [
    "# Text Processing\n",
    "\n",
    "## Capturing Text Data\n",
    "\n",
    "### Plain Text"
   ]
  },
  {
   "cell_type": "code",
   "execution_count": 1,
   "metadata": {},
   "outputs": [
    {
     "name": "stdout",
     "output_type": "stream",
     "text": [
      "Hieroglyphic writing dates from c. 3000 BC, and is composed of hundreds of symbols. A hieroglyph can represent a word, a sound, or a silent determinative; and the same symbol can serve different purposes in different contexts. Hieroglyphs were a formal script, used on stone monuments and in tombs, that could be as detailed as individual works of art.\n",
      "\n"
     ]
    }
   ],
   "source": [
    "import os\n",
    "\n",
    "# Read in a plain text file\n",
    "with open(os.path.join(\"data\", \"hieroglyph.txt\"), \"r\") as f:\n",
    "    text = f.read()\n",
    "    print(text)"
   ]
  },
  {
   "cell_type": "markdown",
   "metadata": {},
   "source": [
    "### Tabular Data"
   ]
  },
  {
   "cell_type": "code",
   "execution_count": 2,
   "metadata": {
    "scrolled": true
   },
   "outputs": [
    {
     "data": {
      "text/html": [
       "<div>\n",
       "<style scoped>\n",
       "    .dataframe tbody tr th:only-of-type {\n",
       "        vertical-align: middle;\n",
       "    }\n",
       "\n",
       "    .dataframe tbody tr th {\n",
       "        vertical-align: top;\n",
       "    }\n",
       "\n",
       "    .dataframe thead th {\n",
       "        text-align: right;\n",
       "    }\n",
       "</style>\n",
       "<table border=\"1\" class=\"dataframe\">\n",
       "  <thead>\n",
       "    <tr style=\"text-align: right;\">\n",
       "      <th></th>\n",
       "      <th>publisher</th>\n",
       "      <th>title</th>\n",
       "    </tr>\n",
       "  </thead>\n",
       "  <tbody>\n",
       "    <tr>\n",
       "      <th>0</th>\n",
       "      <td>Livemint</td>\n",
       "      <td>fed's charles plosser sees high bar for change...</td>\n",
       "    </tr>\n",
       "    <tr>\n",
       "      <th>1</th>\n",
       "      <td>IFA Magazine</td>\n",
       "      <td>us open: stocks fall after fed official hints ...</td>\n",
       "    </tr>\n",
       "    <tr>\n",
       "      <th>2</th>\n",
       "      <td>IFA Magazine</td>\n",
       "      <td>fed risks falling 'behind the curve', charles ...</td>\n",
       "    </tr>\n",
       "    <tr>\n",
       "      <th>3</th>\n",
       "      <td>Moneynews</td>\n",
       "      <td>fed's plosser: nasty weather has curbed job gr...</td>\n",
       "    </tr>\n",
       "    <tr>\n",
       "      <th>4</th>\n",
       "      <td>NASDAQ</td>\n",
       "      <td>plosser: fed may have to accelerate tapering pace</td>\n",
       "    </tr>\n",
       "  </tbody>\n",
       "</table>\n",
       "</div>"
      ],
      "text/plain": [
       "      publisher                                              title\n",
       "0      Livemint  fed's charles plosser sees high bar for change...\n",
       "1  IFA Magazine  us open: stocks fall after fed official hints ...\n",
       "2  IFA Magazine  fed risks falling 'behind the curve', charles ...\n",
       "3     Moneynews  fed's plosser: nasty weather has curbed job gr...\n",
       "4        NASDAQ  plosser: fed may have to accelerate tapering pace"
      ]
     },
     "execution_count": 2,
     "metadata": {},
     "output_type": "execute_result"
    }
   ],
   "source": [
    "import pandas as pd\n",
    "\n",
    "# Extract text column from a dataframe\n",
    "df = pd.read_csv(os.path.join(\"data\", \"news.csv\"))\n",
    "df.head()[['publisher', 'title']]\n",
    "\n",
    "# Convert text column to lowercase\n",
    "df['title'] = df['title'].str.lower()\n",
    "df.head()[['publisher', 'title']]"
   ]
  },
  {
   "cell_type": "markdown",
   "metadata": {},
   "source": [
    "### Online Resource"
   ]
  },
  {
   "cell_type": "code",
   "execution_count": 3,
   "metadata": {
    "scrolled": true
   },
   "outputs": [
    {
     "name": "stdout",
     "output_type": "stream",
     "text": [
      "{\n",
      "    \"success\": {\n",
      "        \"total\": 1\n",
      "    },\n",
      "    \"contents\": {\n",
      "        \"quotes\": [\n",
      "            {\n",
      "                \"quote\": \"You will never win if you never begin.\",\n",
      "                \"length\": \"38\",\n",
      "                \"author\": \"Helen Rowland\",\n",
      "                \"tags\": {\n",
      "                    \"0\": \"beginning\",\n",
      "                    \"1\": \"inspire\",\n",
      "                    \"3\": \"winning\"\n",
      "                },\n",
      "                \"category\": \"inspire\",\n",
      "                \"language\": \"en\",\n",
      "                \"date\": \"2021-08-17\",\n",
      "                \"permalink\": \"https://theysaidso.com/quote/helen-rowland-you-will-never-win-if-you-never-begin\",\n",
      "                \"id\": \"AvzQ0IdUXvVjSIkZtKnR7QeF\",\n",
      "                \"background\": \"https://theysaidso.com/img/qod/qod-inspire.jpg\",\n",
      "                \"title\": \"Inspiring Quote of the day\"\n",
      "            }\n",
      "        ]\n",
      "    },\n",
      "    \"baseurl\": \"https://theysaidso.com\",\n",
      "    \"copyright\": {\n",
      "        \"year\": 2023,\n",
      "        \"url\": \"https://theysaidso.com\"\n",
      "    }\n",
      "}\n",
      "You will never win if you never begin. \n",
      "-- Helen Rowland\n"
     ]
    }
   ],
   "source": [
    "import requests\n",
    "import json\n",
    "\n",
    "# Fetch data from a REST API\n",
    "r = requests.get(\n",
    "    \"https://quotes.rest/qod.json\")\n",
    "res = r.json()\n",
    "print(json.dumps(res, indent=4))\n",
    "\n",
    "# Extract relevant object and field\n",
    "q = res[\"contents\"][\"quotes\"][0]\n",
    "print(q[\"quote\"], \"\\n--\", q[\"author\"])"
   ]
  },
  {
   "cell_type": "markdown",
   "metadata": {},
   "source": [
    "## Cleaning"
   ]
  },
  {
   "cell_type": "code",
   "execution_count": 4,
   "metadata": {
    "scrolled": true
   },
   "outputs": [
    {
     "name": "stdout",
     "output_type": "stream",
     "text": [
      "<html lang=\"en\" op=\"news\"><head><meta name=\"referrer\" content=\"origin\"><meta name=\"viewport\" content=\"width=device-width, initial-scale=1.0\"><link rel=\"stylesheet\" type=\"text/css\" href=\"news.css?FJc2HJ5ky117YsmUhGiy\">\n",
      "        <link rel=\"shortcut icon\" href=\"favicon.ico\">\n",
      "          <link rel=\"alternate\" type=\"application/rss+xml\" title=\"RSS\" href=\"rss\">\n",
      "        <title>Hacker News</title></head><body><center><table id=\"hnmain\" border=\"0\" cellpadding=\"0\" cellspacing=\"0\" width=\"85%\" bgcolor=\"#f6f6ef\">\n",
      "        <tr><td bgcolor=\"#ff6600\"><table border=\"0\" cellpadding=\"0\" cellspacing=\"0\" width=\"100%\" style=\"padding:2px\"><tr><td style=\"width:18px;padding-right:4px\"><a href=\"https://news.ycombinator.com\"><img src=\"y18.gif\" width=\"18\" height=\"18\" style=\"border:1px white solid;\"></a></td>\n",
      "                  <td style=\"line-height:12pt; height:10px;\"><span class=\"pagetop\"><b class=\"hnname\"><a href=\"news\">Hacker News</a></b>\n",
      "              <a href=\"newest\">new</a> | <a href=\"front\">past</a> | <a href=\"newcomments\">comments</a> | <a href=\"ask\">ask</a> | <a href=\"show\">show</a> | <a href=\"jobs\">jobs</a> | <a href=\"submit\">submit</a>            </span></td><td style=\"text-align:right;padding-right:4px;\"><span class=\"pagetop\">\n",
      "                              <a href=\"login?goto=news\">login</a>\n",
      "                          </span></td>\n",
      "              </tr></table></td></tr>\n",
      "<tr id=\"pagespace\" title=\"\" style=\"height:10px\"></tr><tr><td><table border=\"0\" cellpadding=\"0\" cellspacing=\"0\" class=\"itemlist\">\n",
      "              <tr class='athing' id='28203948'>\n",
      "      <td align=\"right\" valign=\"top\" class=\"title\"><span class=\"rank\">1.</span></td>      <td valign=\"top\" class=\"votelinks\"><center><a id='up_28203948' href='vote?id=28203948&amp;how=up&amp;goto=news'><div class='votearrow' title='upvote'></div></a></center></td><td class=\"title\"><a href=\"https://watson.brown.edu/costsofwar/costs/economic\" class=\"storylink\">The US federal government has spent $6.4T dollars on the post-9/11 wars</a><span class=\"sitebit comhead\"> (<a href=\"from?site=brown.edu\"><span class=\"sitestr\">brown.edu</span></a>)</span></td></tr><tr><td colspan=\"2\"></td><td class=\"subtext\">\n",
      "        <span class=\"score\" id=\"score_28203948\">390 points</span> by <a href=\"user?id=hncurious\" class=\"hnuser\">hncurious</a> <span class=\"age\" title=\"2021-08-16T22:58:05\"><a href=\"item?id=28203948\">3 hours ago</a></span> <span id=\"unv_28203948\"></span> | <a href=\"hide?id=28203948&amp;goto=news\">hide</a> | <a href=\"item?id=28203948\">319&nbsp;comments</a>              </td></tr>\n",
      "      <tr class=\"spacer\" style=\"height:5px\"></tr>\n",
      "                <tr class='athing' id='28204040'>\n",
      "      <td align=\"right\" valign=\"top\" class=\"title\"><span class=\"rank\">2.</span></td>      <td valign=\"top\" class=\"votelinks\"><center><a id='up_28204040' href='vote?id=28204040&amp;how=up&amp;goto=news'><div class='votearrow' title='upvote'></div></a></center></td><td class=\"title\"><a href=\"https://golem.ph.utexas.edu/category/2011/09/the_inconsistency_of_arithmeti.html\" class=\"storylink\">You are quite right, and my original response was wrong. I withdraw my claim</a><span class=\"sitebit comhead\"> (<a href=\"from?site=utexas.edu\"><span class=\"sitestr\">utexas.edu</span></a>)</span></td></tr><tr><td colspan=\"2\"></td><td class=\"subtext\">\n",
      "        <span class=\"score\" id=\"score_28204040\">208 points</span> by <a href=\"user?id=woopwoop\" class=\"hnuser\">woopwoop</a> <span class=\"age\" title=\"2021-08-16T23:12:50\"><a href=\"item?id=28204040\">3 hours ago</a></span> <span id=\"unv_28204040\"></span> | <a href=\"hide?id=28204040&amp;goto=news\">hide</a> | <a href=\"item?id=28204040\">44&nbsp;comments</a>              </td></tr>\n",
      "      <tr class=\"spacer\" style=\"height:5px\"></tr>\n",
      "                <tr class='athing' id='28204401'>\n",
      "      <td align=\"right\" valign=\"top\" class=\"title\"><span class=\"rank\">3.</span></td>      <td valign=\"top\" class=\"votelinks\"><center><a id='up_28204401' href='vote?id=28204401&amp;how=up&amp;goto=news'><div class='votearrow' title='upvote'></div></a></center></td><td class=\"title\"><a href=\"https://www.forbes.com/sites/robertwood/2021/07/12/moving-avoids-california-tax-not-so-fast\" class=\"storylink\">Moving Avoids California Tax? Not So Fast</a><span class=\"sitebit comhead\"> (<a href=\"from?site=forbes.com/sites/robertwood\"><span class=\"sitestr\">forbes.com/sites/robertwood</span></a>)</span></td></tr><tr><td colspan=\"2\"></td><td class=\"subtext\">\n",
      "        <span class=\"score\" id=\"score_28204401\">40 points</span> by <a href=\"user?id=dmitrygr\" class=\"hnuser\">dmitrygr</a> <span class=\"age\" title=\"2021-08-16T23:53:27\"><a href=\"item?id=28204401\">1 hour ago</a></span> <span id=\"unv_28204401\"></span> | <a href=\"hide?id=28204401&amp;goto=news\">hide</a> | <a href=\"item?id=28204401\">28&nbsp;comments</a>              </td></tr>\n",
      "      <tr class=\"spacer\" style=\"height:5px\"></tr>\n",
      "                <tr class='athing' id='28203940'>\n",
      "      <td align=\"right\" valign=\"top\" class=\"title\"><span class=\"rank\">4.</span></td>      <td valign=\"top\" class=\"votelinks\"><center><a id='up_28203940' href='vote?id=28203940&amp;how=up&amp;goto=news'><div class='votearrow' title='upvote'></div></a></center></td><td class=\"title\"><a href=\"https://endless-sky.github.io/\" class=\"storylink\">Endless Sky: an open source space trading and combat game</a><span class=\"sitebit comhead\"> (<a href=\"from?site=endless-sky.github.io\"><span class=\"sitestr\">endless-sky.github.io</span></a>)</span></td></tr><tr><td colspan=\"2\"></td><td class=\"subtext\">\n",
      "        <span class=\"score\" id=\"score_28203940\">105 points</span> by <a href=\"user?id=blopker\" class=\"hnuser\">blopker</a> <span class=\"age\" title=\"2021-08-16T22:56:42\"><a href=\"item?id=28203940\">3 hours ago</a></span> <span id=\"unv_28203940\"></span> | <a href=\"hide?id=28203940&amp;goto=news\">hide</a> | <a href=\"item?id=28203940\">38&nbsp;comments</a>              </td></tr>\n",
      "      <tr class=\"spacer\" style=\"height:5px\"></tr>\n",
      "                <tr class='athing' id='28203242'>\n",
      "      <td align=\"right\" valign=\"top\" class=\"title\"><span class=\"rank\">5.</span></td>      <td valign=\"top\" class=\"votelinks\"><center><a id='up_28203242' href='vote?id=28203242&amp;how=up&amp;goto=news'><div class='votearrow' title='upvote'></div></a></center></td><td class=\"title\"><a href=\"https://leafletjs.com/\" class=\"storylink\">LeafletJS: a JavaScript library for interactive maps</a><span class=\"sitebit comhead\"> (<a href=\"from?site=leafletjs.com\"><span class=\"sitestr\">leafletjs.com</span></a>)</span></td></tr><tr><td colspan=\"2\"></td><td class=\"subtext\">\n",
      "        <span class=\"score\" id=\"score_28203242\">177 points</span> by <a href=\"user?id=x14km2d\" class=\"hnuser\">x14km2d</a> <span class=\"age\" title=\"2021-08-16T21:32:53\"><a href=\"item?id=28203242\">4 hours ago</a></span> <span id=\"unv_28203242\"></span> | <a href=\"hide?id=28203242&amp;goto=news\">hide</a> | <a href=\"item?id=28203242\">46&nbsp;comments</a>              </td></tr>\n",
      "      <tr class=\"spacer\" style=\"height:5px\"></tr>\n",
      "                <tr class='athing' id='28203654'>\n",
      "      <td align=\"right\" valign=\"top\" class=\"title\"><span class=\"rank\">6.</span></td>      <td valign=\"top\" class=\"votelinks\"><center><a id='up_28203654' href='vote?id=28203654&amp;how=up&amp;goto=news'><div class='votearrow' title='upvote'></div></a></center></td><td class=\"title\"><a href=\"https://github.com/jpochyla/psst\" class=\"storylink\">Psst: Fast Spotify client with native GUI, without Electron, built in Rust</a><span class=\"sitebit comhead\"> (<a href=\"from?site=github.com/jpochyla\"><span class=\"sitestr\">github.com/jpochyla</span></a>)</span></td></tr><tr><td colspan=\"2\"></td><td class=\"subtext\">\n",
      "        <span class=\"score\" id=\"score_28203654\">130 points</span> by <a href=\"user?id=tim--\" class=\"hnuser\">tim--</a> <span class=\"age\" title=\"2021-08-16T22:17:51\"><a href=\"item?id=28203654\">4 hours ago</a></span> <span id=\"unv_28203654\"></span> | <a href=\"hide?id=28203654&amp;goto=news\">hide</a> | <a href=\"item?id=28203654\">33&nbsp;comments</a>              </td></tr>\n",
      "      <tr class=\"spacer\" style=\"height:5px\"></tr>\n",
      "                <tr class='athing' id='28204786'>\n",
      "      <td align=\"right\" valign=\"top\" class=\"title\"><span class=\"rank\">7.</span></td>      <td valign=\"top\" class=\"votelinks\"><center><a id='up_28204786' href='vote?id=28204786&amp;how=up&amp;goto=news'><div class='votearrow' title='upvote'></div></a></center></td><td class=\"title\"><a href=\"https://www.theguardian.com/science/2021/aug/09/pompeis-fast-food-joint-unearthed-in-2019-opens-to-public\" class=\"storylink\">Pompeii’s fast food joint unearthed in 2019 opens to public</a><span class=\"sitebit comhead\"> (<a href=\"from?site=theguardian.com\"><span class=\"sitestr\">theguardian.com</span></a>)</span></td></tr><tr><td colspan=\"2\"></td><td class=\"subtext\">\n",
      "        <span class=\"score\" id=\"score_28204786\">31 points</span> by <a href=\"user?id=diodorus\" class=\"hnuser\">diodorus</a> <span class=\"age\" title=\"2021-08-17T00:45:11\"><a href=\"item?id=28204786\">1 hour ago</a></span> <span id=\"unv_28204786\"></span> | <a href=\"hide?id=28204786&amp;goto=news\">hide</a> | <a href=\"item?id=28204786\">7&nbsp;comments</a>              </td></tr>\n",
      "      <tr class=\"spacer\" style=\"height:5px\"></tr>\n",
      "                <tr class='athing' id='28204026'>\n",
      "      <td align=\"right\" valign=\"top\" class=\"title\"><span class=\"rank\">8.</span></td>      <td valign=\"top\" class=\"votelinks\"><center><a id='up_28204026' href='vote?id=28204026&amp;how=up&amp;goto=news'><div class='votearrow' title='upvote'></div></a></center></td><td class=\"title\"><a href=\"https://www.latimes.com/projects/gray-whale-deaths-how-humans-climate-change-hurt-oceans/\" class=\"storylink\">Something is killing gray whales</a><span class=\"sitebit comhead\"> (<a href=\"from?site=latimes.com\"><span class=\"sitestr\">latimes.com</span></a>)</span></td></tr><tr><td colspan=\"2\"></td><td class=\"subtext\">\n",
      "        <span class=\"score\" id=\"score_28204026\">52 points</span> by <a href=\"user?id=prostoalex\" class=\"hnuser\">prostoalex</a> <span class=\"age\" title=\"2021-08-16T23:10:22\"><a href=\"item?id=28204026\">3 hours ago</a></span> <span id=\"unv_28204026\"></span> | <a href=\"hide?id=28204026&amp;goto=news\">hide</a> | <a href=\"item?id=28204026\">18&nbsp;comments</a>              </td></tr>\n",
      "      <tr class=\"spacer\" style=\"height:5px\"></tr>\n",
      "                <tr class='athing' id='28204891'>\n",
      "      <td align=\"right\" valign=\"top\" class=\"title\"><span class=\"rank\">9.</span></td>      <td></td><td class=\"title\"><a href=\"https://www.ycombinator.com/companies/swiftsku/jobs/YhllV1x-sales-account-executive\" class=\"storylink\" rel=\"nofollow\">SwiftSku (YC W21) Is Hiring Gujarati Account Executives</a><span class=\"sitebit comhead\"> (<a href=\"from?site=ycombinator.com\"><span class=\"sitestr\">ycombinator.com</span></a>)</span></td></tr><tr><td colspan=\"2\"></td><td class=\"subtext\">\n",
      "        <span class=\"age\" title=\"2021-08-17T01:01:14\"><a href=\"item?id=28204891\">1 hour ago</a></span> | <a href=\"hide?id=28204891&amp;goto=news\">hide</a>      </td></tr>\n",
      "      <tr class=\"spacer\" style=\"height:5px\"></tr>\n",
      "                <tr class='athing' id='28204255'>\n",
      "      <td align=\"right\" valign=\"top\" class=\"title\"><span class=\"rank\">10.</span></td>      <td valign=\"top\" class=\"votelinks\"><center><a id='up_28204255' href='vote?id=28204255&amp;how=up&amp;goto=news'><div class='votearrow' title='upvote'></div></a></center></td><td class=\"title\"><a href=\"https://play0ad.com/\" class=\"storylink\">0 A.D. A free, open-source game of ancient warfare</a><span class=\"sitebit comhead\"> (<a href=\"from?site=play0ad.com\"><span class=\"sitestr\">play0ad.com</span></a>)</span></td></tr><tr><td colspan=\"2\"></td><td class=\"subtext\">\n",
      "        <span class=\"score\" id=\"score_28204255\">33 points</span> by <a href=\"user?id=jonbaer\" class=\"hnuser\">jonbaer</a> <span class=\"age\" title=\"2021-08-16T23:39:04\"><a href=\"item?id=28204255\">2 hours ago</a></span> <span id=\"unv_28204255\"></span> | <a href=\"hide?id=28204255&amp;goto=news\">hide</a> | <a href=\"item?id=28204255\">6&nbsp;comments</a>              </td></tr>\n",
      "      <tr class=\"spacer\" style=\"height:5px\"></tr>\n",
      "                <tr class='athing' id='28205031'>\n",
      "      <td align=\"right\" valign=\"top\" class=\"title\"><span class=\"rank\">11.</span></td>      <td valign=\"top\" class=\"votelinks\"><center><a id='up_28205031' href='vote?id=28205031&amp;how=up&amp;goto=news'><div class='votearrow' title='upvote'></div></a></center></td><td class=\"title\"><a href=\"https://www.sciencemag.org/news/2021/08/grim-warning-israel-vaccination-blunts-does-not-defeat-delta\" class=\"storylink\">A grim warning from Israel: Vaccination blunts, but does not defeat Delta</a><span class=\"sitebit comhead\"> (<a href=\"from?site=sciencemag.org\"><span class=\"sitestr\">sciencemag.org</span></a>)</span></td></tr><tr><td colspan=\"2\"></td><td class=\"subtext\">\n",
      "        <span class=\"score\" id=\"score_28205031\">52 points</span> by <a href=\"user?id=sohkamyung\" class=\"hnuser\">sohkamyung</a> <span class=\"age\" title=\"2021-08-17T01:25:33\"><a href=\"item?id=28205031\">1 hour ago</a></span> <span id=\"unv_28205031\"></span> | <a href=\"hide?id=28205031&amp;goto=news\">hide</a> | <a href=\"item?id=28205031\">37&nbsp;comments</a>              </td></tr>\n",
      "      <tr class=\"spacer\" style=\"height:5px\"></tr>\n",
      "                <tr class='athing' id='28198641'>\n",
      "      <td align=\"right\" valign=\"top\" class=\"title\"><span class=\"rank\">12.</span></td>      <td valign=\"top\" class=\"votelinks\"><center><a id='up_28198641' href='vote?id=28198641&amp;how=up&amp;goto=news'><div class='votearrow' title='upvote'></div></a></center></td><td class=\"title\"><a href=\"https://alda.io/tutorial/\" class=\"storylink\">Alda – Text-Based Programming Language for Music Composition</a><span class=\"sitebit comhead\"> (<a href=\"from?site=alda.io\"><span class=\"sitestr\">alda.io</span></a>)</span></td></tr><tr><td colspan=\"2\"></td><td class=\"subtext\">\n",
      "        <span class=\"score\" id=\"score_28198641\">387 points</span> by <a href=\"user?id=p1esk\" class=\"hnuser\">p1esk</a> <span class=\"age\" title=\"2021-08-16T14:38:20\"><a href=\"item?id=28198641\">11 hours ago</a></span> <span id=\"unv_28198641\"></span> | <a href=\"hide?id=28198641&amp;goto=news\">hide</a> | <a href=\"item?id=28198641\">100&nbsp;comments</a>              </td></tr>\n",
      "      <tr class=\"spacer\" style=\"height:5px\"></tr>\n",
      "                <tr class='athing' id='28204948'>\n",
      "      <td align=\"right\" valign=\"top\" class=\"title\"><span class=\"rank\">13.</span></td>      <td valign=\"top\" class=\"votelinks\"><center><a id='up_28204948' href='vote?id=28204948&amp;how=up&amp;goto=news'><div class='votearrow' title='upvote'></div></a></center></td><td class=\"title\"><a href=\"https://desystemize.substack.com/p/desystemize-7\" class=\"storylink\">How did so many Dungeon Crawl: Stone Soup players miss such an obvious bug?</a><span class=\"sitebit comhead\"> (<a href=\"from?site=desystemize.substack.com\"><span class=\"sitestr\">desystemize.substack.com</span></a>)</span></td></tr><tr><td colspan=\"2\"></td><td class=\"subtext\">\n",
      "        <span class=\"score\" id=\"score_28204948\">9 points</span> by <a href=\"user?id=luu\" class=\"hnuser\">luu</a> <span class=\"age\" title=\"2021-08-17T01:08:49\"><a href=\"item?id=28204948\">1 hour ago</a></span> <span id=\"unv_28204948\"></span> | <a href=\"hide?id=28204948&amp;goto=news\">hide</a> | <a href=\"item?id=28204948\">1&nbsp;comment</a>              </td></tr>\n",
      "      <tr class=\"spacer\" style=\"height:5px\"></tr>\n",
      "                <tr class='athing' id='28201547'>\n",
      "      <td align=\"right\" valign=\"top\" class=\"title\"><span class=\"rank\">14.</span></td>      <td valign=\"top\" class=\"votelinks\"><center><a id='up_28201547' href='vote?id=28201547&amp;how=up&amp;goto=news'><div class='votearrow' title='upvote'></div></a></center></td><td class=\"title\"><a href=\"https://www.exeter.ac.uk/news/research/title_872443_en.html\" class=\"storylink\">Computer simulation helps test land management techniques to help bumblebees</a><span class=\"sitebit comhead\"> (<a href=\"from?site=exeter.ac.uk\"><span class=\"sitestr\">exeter.ac.uk</span></a>)</span></td></tr><tr><td colspan=\"2\"></td><td class=\"subtext\">\n",
      "        <span class=\"score\" id=\"score_28201547\">117 points</span> by <a href=\"user?id=rbanffy\" class=\"hnuser\">rbanffy</a> <span class=\"age\" title=\"2021-08-16T18:58:40\"><a href=\"item?id=28201547\">7 hours ago</a></span> <span id=\"unv_28201547\"></span> | <a href=\"hide?id=28201547&amp;goto=news\">hide</a> | <a href=\"item?id=28201547\">18&nbsp;comments</a>              </td></tr>\n",
      "      <tr class=\"spacer\" style=\"height:5px\"></tr>\n",
      "                <tr class='athing' id='28201732'>\n",
      "      <td align=\"right\" valign=\"top\" class=\"title\"><span class=\"rank\">15.</span></td>      <td valign=\"top\" class=\"votelinks\"><center><a id='up_28201732' href='vote?id=28201732&amp;how=up&amp;goto=news'><div class='votearrow' title='upvote'></div></a></center></td><td class=\"title\"><a href=\"https://golang.org/doc/go1.17\" class=\"storylink\">Go 1.17 Release Notes</a><span class=\"sitebit comhead\"> (<a href=\"from?site=golang.org\"><span class=\"sitestr\">golang.org</span></a>)</span></td></tr><tr><td colspan=\"2\"></td><td class=\"subtext\">\n",
      "        <span class=\"score\" id=\"score_28201732\">117 points</span> by <a href=\"user?id=aofeisheng\" class=\"hnuser\">aofeisheng</a> <span class=\"age\" title=\"2021-08-16T19:16:53\"><a href=\"item?id=28201732\">7 hours ago</a></span> <span id=\"unv_28201732\"></span> | <a href=\"hide?id=28201732&amp;goto=news\">hide</a> | <a href=\"item?id=28201732\">95&nbsp;comments</a>              </td></tr>\n",
      "      <tr class=\"spacer\" style=\"height:5px\"></tr>\n",
      "                <tr class='athing' id='28200288'>\n",
      "      <td align=\"right\" valign=\"top\" class=\"title\"><span class=\"rank\">16.</span></td>      <td valign=\"top\" class=\"votelinks\"><center><a id='up_28200288' href='vote?id=28200288&amp;how=up&amp;goto=news'><div class='votearrow' title='upvote'></div></a></center></td><td class=\"title\"><a href=\"https://twitter.com/FlickType/status/1427292830523744257\" class=\"storylink\">Discontinuing FlickType Keyboard for iPhone</a><span class=\"sitebit comhead\"> (<a href=\"from?site=twitter.com/flicktype\"><span class=\"sitestr\">twitter.com/flicktype</span></a>)</span></td></tr><tr><td colspan=\"2\"></td><td class=\"subtext\">\n",
      "        <span class=\"score\" id=\"score_28200288\">287 points</span> by <a href=\"user?id=keleftheriou\" class=\"hnuser\">keleftheriou</a> <span class=\"age\" title=\"2021-08-16T17:01:05\"><a href=\"item?id=28200288\">9 hours ago</a></span> <span id=\"unv_28200288\"></span> | <a href=\"hide?id=28200288&amp;goto=news\">hide</a> | <a href=\"item?id=28200288\">94&nbsp;comments</a>              </td></tr>\n",
      "      <tr class=\"spacer\" style=\"height:5px\"></tr>\n",
      "                <tr class='athing' id='28204077'>\n",
      "      <td align=\"right\" valign=\"top\" class=\"title\"><span class=\"rank\">17.</span></td>      <td valign=\"top\" class=\"votelinks\"><center><a id='up_28204077' href='vote?id=28204077&amp;how=up&amp;goto=news'><div class='votearrow' title='upvote'></div></a></center></td><td class=\"title\"><a href=\"https://www.unite.ai/optical-adversarial-attack-can-change-the-meaning-of-road-signs/\" class=\"storylink\">Optical Adversarial Attack Can Change the Meaning of Road Signs</a><span class=\"sitebit comhead\"> (<a href=\"from?site=unite.ai\"><span class=\"sitestr\">unite.ai</span></a>)</span></td></tr><tr><td colspan=\"2\"></td><td class=\"subtext\">\n",
      "        <span class=\"score\" id=\"score_28204077\">20 points</span> by <a href=\"user?id=geox\" class=\"hnuser\">geox</a> <span class=\"age\" title=\"2021-08-16T23:16:57\"><a href=\"item?id=28204077\">3 hours ago</a></span> <span id=\"unv_28204077\"></span> | <a href=\"hide?id=28204077&amp;goto=news\">hide</a> | <a href=\"item?id=28204077\">26&nbsp;comments</a>              </td></tr>\n",
      "      <tr class=\"spacer\" style=\"height:5px\"></tr>\n",
      "                <tr class='athing' id='28202399'>\n",
      "      <td align=\"right\" valign=\"top\" class=\"title\"><span class=\"rank\">18.</span></td>      <td valign=\"top\" class=\"votelinks\"><center><a id='up_28202399' href='vote?id=28202399&amp;how=up&amp;goto=news'><div class='votearrow' title='upvote'></div></a></center></td><td class=\"title\"><a href=\"https://www.vice.com/en/article/y3d4dw/t-mobile-confirms-it-was-hacked\" class=\"storylink\">T-Mobile Confirms It Was Hacked</a><span class=\"sitebit comhead\"> (<a href=\"from?site=vice.com\"><span class=\"sitestr\">vice.com</span></a>)</span></td></tr><tr><td colspan=\"2\"></td><td class=\"subtext\">\n",
      "        <span class=\"score\" id=\"score_28202399\">320 points</span> by <a href=\"user?id=jbegley\" class=\"hnuser\">jbegley</a> <span class=\"age\" title=\"2021-08-16T20:18:06\"><a href=\"item?id=28202399\">6 hours ago</a></span> <span id=\"unv_28202399\"></span> | <a href=\"hide?id=28202399&amp;goto=news\">hide</a> | <a href=\"item?id=28202399\">176&nbsp;comments</a>              </td></tr>\n",
      "      <tr class=\"spacer\" style=\"height:5px\"></tr>\n",
      "                <tr class='athing' id='28200913'>\n",
      "      <td align=\"right\" valign=\"top\" class=\"title\"><span class=\"rank\">19.</span></td>      <td valign=\"top\" class=\"votelinks\"><center><a id='up_28200913' href='vote?id=28200913&amp;how=up&amp;goto=news'><div class='votearrow' title='upvote'></div></a></center></td><td class=\"title\"><a href=\"https://www.wired.com/2008/04/ff-wozniak/\" class=\"storylink\">To remember everything you learn, surrender to this algorithm (2008)</a><span class=\"sitebit comhead\"> (<a href=\"from?site=wired.com\"><span class=\"sitestr\">wired.com</span></a>)</span></td></tr><tr><td colspan=\"2\"></td><td class=\"subtext\">\n",
      "        <span class=\"score\" id=\"score_28200913\">120 points</span> by <a href=\"user?id=sanmak\" class=\"hnuser\">sanmak</a> <span class=\"age\" title=\"2021-08-16T17:59:27\"><a href=\"item?id=28200913\">8 hours ago</a></span> <span id=\"unv_28200913\"></span> | <a href=\"hide?id=28200913&amp;goto=news\">hide</a> | <a href=\"item?id=28200913\">65&nbsp;comments</a>              </td></tr>\n",
      "      <tr class=\"spacer\" style=\"height:5px\"></tr>\n",
      "                <tr class='athing' id='28204105'>\n",
      "      <td align=\"right\" valign=\"top\" class=\"title\"><span class=\"rank\">20.</span></td>      <td valign=\"top\" class=\"votelinks\"><center><a id='up_28204105' href='vote?id=28204105&amp;how=up&amp;goto=news'><div class='votearrow' title='upvote'></div></a></center></td><td class=\"title\"><a href=\"https://github.com/sctb/lumen\" class=\"storylink\">Lumen – self-hosted Lisp for Lua and JavaScript</a><span class=\"sitebit comhead\"> (<a href=\"from?site=github.com/sctb\"><span class=\"sitestr\">github.com/sctb</span></a>)</span></td></tr><tr><td colspan=\"2\"></td><td class=\"subtext\">\n",
      "        <span class=\"score\" id=\"score_28204105\">21 points</span> by <a href=\"user?id=sudobash1\" class=\"hnuser\">sudobash1</a> <span class=\"age\" title=\"2021-08-16T23:22:03\"><a href=\"item?id=28204105\">3 hours ago</a></span> <span id=\"unv_28204105\"></span> | <a href=\"hide?id=28204105&amp;goto=news\">hide</a> | <a href=\"item?id=28204105\">1&nbsp;comment</a>              </td></tr>\n",
      "      <tr class=\"spacer\" style=\"height:5px\"></tr>\n",
      "                <tr class='athing' id='28193680'>\n",
      "      <td align=\"right\" valign=\"top\" class=\"title\"><span class=\"rank\">21.</span></td>      <td valign=\"top\" class=\"votelinks\"><center><a id='up_28193680' href='vote?id=28193680&amp;how=up&amp;goto=news'><div class='votearrow' title='upvote'></div></a></center></td><td class=\"title\"><a href=\"http://progressquest.com\" class=\"storylink\">Progress Quest</a><span class=\"sitebit comhead\"> (<a href=\"from?site=progressquest.com\"><span class=\"sitestr\">progressquest.com</span></a>)</span></td></tr><tr><td colspan=\"2\"></td><td class=\"subtext\">\n",
      "        <span class=\"score\" id=\"score_28193680\">53 points</span> by <a href=\"user?id=vector_spaces\" class=\"hnuser\">vector_spaces</a> <span class=\"age\" title=\"2021-08-15T23:57:45\"><a href=\"item?id=28193680\">5 hours ago</a></span> <span id=\"unv_28193680\"></span> | <a href=\"hide?id=28193680&amp;goto=news\">hide</a> | <a href=\"item?id=28193680\">14&nbsp;comments</a>              </td></tr>\n",
      "      <tr class=\"spacer\" style=\"height:5px\"></tr>\n",
      "                <tr class='athing' id='28197103'>\n",
      "      <td align=\"right\" valign=\"top\" class=\"title\"><span class=\"rank\">22.</span></td>      <td valign=\"top\" class=\"votelinks\"><center><a id='up_28197103' href='vote?id=28197103&amp;how=up&amp;goto=news'><div class='votearrow' title='upvote'></div></a></center></td><td class=\"title\"><a href=\"https://www.bit-101.com/blog/2021/08/a-programmers-introduction-to-mathematics/\" class=\"storylink\">A Programmer’s Introduction to Mathematics</a><span class=\"sitebit comhead\"> (<a href=\"from?site=bit-101.com\"><span class=\"sitestr\">bit-101.com</span></a>)</span></td></tr><tr><td colspan=\"2\"></td><td class=\"subtext\">\n",
      "        <span class=\"score\" id=\"score_28197103\">310 points</span> by <a href=\"user?id=ingve\" class=\"hnuser\">ingve</a> <span class=\"age\" title=\"2021-08-16T12:05:17\"><a href=\"item?id=28197103\">14 hours ago</a></span> <span id=\"unv_28197103\"></span> | <a href=\"hide?id=28197103&amp;goto=news\">hide</a> | <a href=\"item?id=28197103\">88&nbsp;comments</a>              </td></tr>\n",
      "      <tr class=\"spacer\" style=\"height:5px\"></tr>\n",
      "                <tr class='athing' id='28197482'>\n",
      "      <td align=\"right\" valign=\"top\" class=\"title\"><span class=\"rank\">23.</span></td>      <td valign=\"top\" class=\"votelinks\"><center><a id='up_28197482' href='vote?id=28197482&amp;how=up&amp;goto=news'><div class='votearrow' title='upvote'></div></a></center></td><td class=\"title\"><a href=\"https://www.newyorker.com/magazine/2021/08/23/why-is-it-so-hard-to-be-rational\" class=\"storylink\">Why is it so hard to be rational?</a><span class=\"sitebit comhead\"> (<a href=\"from?site=newyorker.com\"><span class=\"sitestr\">newyorker.com</span></a>)</span></td></tr><tr><td colspan=\"2\"></td><td class=\"subtext\">\n",
      "        <span class=\"score\" id=\"score_28197482\">297 points</span> by <a href=\"user?id=ubuwaits\" class=\"hnuser\">ubuwaits</a> <span class=\"age\" title=\"2021-08-16T12:57:52\"><a href=\"item?id=28197482\">13 hours ago</a></span> <span id=\"unv_28197482\"></span> | <a href=\"hide?id=28197482&amp;goto=news\">hide</a> | <a href=\"item?id=28197482\">266&nbsp;comments</a>              </td></tr>\n",
      "      <tr class=\"spacer\" style=\"height:5px\"></tr>\n",
      "                <tr class='athing' id='28187936'>\n",
      "      <td align=\"right\" valign=\"top\" class=\"title\"><span class=\"rank\">24.</span></td>      <td valign=\"top\" class=\"votelinks\"><center><a id='up_28187936' href='vote?id=28187936&amp;how=up&amp;goto=news'><div class='votearrow' title='upvote'></div></a></center></td><td class=\"title\"><a href=\"https://www.erichgrunewald.com/posts/utilitarianism-expressed-in-julia/\" class=\"storylink\" rel=\"nofollow\">Utilitarianism Expressed in Julia</a><span class=\"sitebit comhead\"> (<a href=\"from?site=erichgrunewald.com\"><span class=\"sitestr\">erichgrunewald.com</span></a>)</span></td></tr><tr><td colspan=\"2\"></td><td class=\"subtext\">\n",
      "        <span class=\"score\" id=\"score_28187936\">5 points</span> by <a href=\"user?id=erwald\" class=\"hnuser\">erwald</a> <span class=\"age\" title=\"2021-08-15T11:36:01\"><a href=\"item?id=28187936\">1 hour ago</a></span> <span id=\"unv_28187936\"></span> | <a href=\"hide?id=28187936&amp;goto=news\">hide</a> | <a href=\"item?id=28187936\">discuss</a>              </td></tr>\n",
      "      <tr class=\"spacer\" style=\"height:5px\"></tr>\n",
      "                <tr class='athing' id='28192221'>\n",
      "      <td align=\"right\" valign=\"top\" class=\"title\"><span class=\"rank\">25.</span></td>      <td valign=\"top\" class=\"votelinks\"><center><a id='up_28192221' href='vote?id=28192221&amp;how=up&amp;goto=news'><div class='votearrow' title='upvote'></div></a></center></td><td class=\"title\"><a href=\"https://jacobinmag.com/2021/07/federal-writers-project-new-deal-era-public-funding-wpa-fdr\" class=\"storylink\">The Federal Writers’ Project fueled the cultural ferment of the New Deal era</a><span class=\"sitebit comhead\"> (<a href=\"from?site=jacobinmag.com\"><span class=\"sitestr\">jacobinmag.com</span></a>)</span></td></tr><tr><td colspan=\"2\"></td><td class=\"subtext\">\n",
      "        <span class=\"score\" id=\"score_28192221\">14 points</span> by <a href=\"user?id=acsillag\" class=\"hnuser\">acsillag</a> <span class=\"age\" title=\"2021-08-15T20:28:32\"><a href=\"item?id=28192221\">3 hours ago</a></span> <span id=\"unv_28192221\"></span> | <a href=\"hide?id=28192221&amp;goto=news\">hide</a> | <a href=\"item?id=28192221\">2&nbsp;comments</a>              </td></tr>\n",
      "      <tr class=\"spacer\" style=\"height:5px\"></tr>\n",
      "                <tr class='athing' id='28187895'>\n",
      "      <td align=\"right\" valign=\"top\" class=\"title\"><span class=\"rank\">26.</span></td>      <td valign=\"top\" class=\"votelinks\"><center><a id='up_28187895' href='vote?id=28187895&amp;how=up&amp;goto=news'><div class='votearrow' title='upvote'></div></a></center></td><td class=\"title\"><a href=\"https://evilmartians.com/chronicles/decoding-avif-deep-dive-with-cats-and-imgproxy\" class=\"storylink\">Decoding AVIF: Deep dive with cats and imgproxy</a><span class=\"sitebit comhead\"> (<a href=\"from?site=evilmartians.com\"><span class=\"sitestr\">evilmartians.com</span></a>)</span></td></tr><tr><td colspan=\"2\"></td><td class=\"subtext\">\n",
      "        <span class=\"score\" id=\"score_28187895\">43 points</span> by <a href=\"user?id=progapandist\" class=\"hnuser\">progapandist</a> <span class=\"age\" title=\"2021-08-15T11:27:28\"><a href=\"item?id=28187895\">6 hours ago</a></span> <span id=\"unv_28187895\"></span> | <a href=\"hide?id=28187895&amp;goto=news\">hide</a> | <a href=\"item?id=28187895\">20&nbsp;comments</a>              </td></tr>\n",
      "      <tr class=\"spacer\" style=\"height:5px\"></tr>\n",
      "                <tr class='athing' id='28204340'>\n",
      "      <td align=\"right\" valign=\"top\" class=\"title\"><span class=\"rank\">27.</span></td>      <td valign=\"top\" class=\"votelinks\"><center><a id='up_28204340' href='vote?id=28204340&amp;how=up&amp;goto=news'><div class='votearrow' title='upvote'></div></a></center></td><td class=\"title\"><a href=\"https://www.theregister.com/2021/08/16/google_groups_rss/\" class=\"storylink\">Google Groups kills RSS support without notice</a><span class=\"sitebit comhead\"> (<a href=\"from?site=theregister.com\"><span class=\"sitestr\">theregister.com</span></a>)</span></td></tr><tr><td colspan=\"2\"></td><td class=\"subtext\">\n",
      "        <span class=\"score\" id=\"score_28204340\">45 points</span> by <a href=\"user?id=samizdis\" class=\"hnuser\">samizdis</a> <span class=\"age\" title=\"2021-08-16T23:47:05\"><a href=\"item?id=28204340\">2 hours ago</a></span> <span id=\"unv_28204340\"></span> | <a href=\"hide?id=28204340&amp;goto=news\">hide</a> | <a href=\"item?id=28204340\">2&nbsp;comments</a>              </td></tr>\n",
      "      <tr class=\"spacer\" style=\"height:5px\"></tr>\n",
      "                <tr class='athing' id='28198996'>\n",
      "      <td align=\"right\" valign=\"top\" class=\"title\"><span class=\"rank\">28.</span></td>      <td valign=\"top\" class=\"votelinks\"><center><a id='up_28198996' href='vote?id=28198996&amp;how=up&amp;goto=news'><div class='votearrow' title='upvote'></div></a></center></td><td class=\"title\"><a href=\"https://voxely.net/blog/object-oriented-entity-component-system-design/\" class=\"storylink\">Object-Oriented Entity-Component-System Design</a><span class=\"sitebit comhead\"> (<a href=\"from?site=voxely.net\"><span class=\"sitestr\">voxely.net</span></a>)</span></td></tr><tr><td colspan=\"2\"></td><td class=\"subtext\">\n",
      "        <span class=\"score\" id=\"score_28198996\">114 points</span> by <a href=\"user?id=agluszak\" class=\"hnuser\">agluszak</a> <span class=\"age\" title=\"2021-08-16T15:09:47\"><a href=\"item?id=28198996\">11 hours ago</a></span> <span id=\"unv_28198996\"></span> | <a href=\"hide?id=28198996&amp;goto=news\">hide</a> | <a href=\"item?id=28198996\">88&nbsp;comments</a>              </td></tr>\n",
      "      <tr class=\"spacer\" style=\"height:5px\"></tr>\n",
      "                <tr class='athing' id='28200076'>\n",
      "      <td align=\"right\" valign=\"top\" class=\"title\"><span class=\"rank\">29.</span></td>      <td valign=\"top\" class=\"votelinks\"><center><a id='up_28200076' href='vote?id=28200076&amp;how=up&amp;goto=news'><div class='votearrow' title='upvote'></div></a></center></td><td class=\"title\"><a href=\"https://finledger.com/2021/08/09/plaid-settled-58-million-lawsuit-over-alleged-consumer-data-sharing/\" class=\"storylink\">Plaid settled $58M lawsuit over alleged consumer data sharing</a><span class=\"sitebit comhead\"> (<a href=\"from?site=finledger.com\"><span class=\"sitestr\">finledger.com</span></a>)</span></td></tr><tr><td colspan=\"2\"></td><td class=\"subtext\">\n",
      "        <span class=\"score\" id=\"score_28200076\">226 points</span> by <a href=\"user?id=exotree\" class=\"hnuser\">exotree</a> <span class=\"age\" title=\"2021-08-16T16:45:06\"><a href=\"item?id=28200076\">9 hours ago</a></span> <span id=\"unv_28200076\"></span> | <a href=\"hide?id=28200076&amp;goto=news\">hide</a> | <a href=\"item?id=28200076\">134&nbsp;comments</a>              </td></tr>\n",
      "      <tr class=\"spacer\" style=\"height:5px\"></tr>\n",
      "                <tr class='athing' id='28198795'>\n",
      "      <td align=\"right\" valign=\"top\" class=\"title\"><span class=\"rank\">30.</span></td>      <td valign=\"top\" class=\"votelinks\"><center><a id='up_28198795' href='vote?id=28198795&amp;how=up&amp;goto=news'><div class='votearrow' title='upvote'></div></a></center></td><td class=\"title\"><a href=\"https://itch.io/jam/pico-1k\" class=\"storylink\">Pico-1K Jam: Make Something Cool in Pico-8 in 1024 Characters</a><span class=\"sitebit comhead\"> (<a href=\"from?site=itch.io\"><span class=\"sitestr\">itch.io</span></a>)</span></td></tr><tr><td colspan=\"2\"></td><td class=\"subtext\">\n",
      "        <span class=\"score\" id=\"score_28198795\">120 points</span> by <a href=\"user?id=polm23\" class=\"hnuser\">polm23</a> <span class=\"age\" title=\"2021-08-16T14:50:19\"><a href=\"item?id=28198795\">11 hours ago</a></span> <span id=\"unv_28198795\"></span> | <a href=\"hide?id=28198795&amp;goto=news\">hide</a> | <a href=\"item?id=28198795\">10&nbsp;comments</a>              </td></tr>\n",
      "      <tr class=\"spacer\" style=\"height:5px\"></tr>\n",
      "            <tr class=\"morespace\" style=\"height:10px\"></tr><tr><td colspan=\"2\"></td><td class=\"title\"><a href=\"news?p=2\" class=\"morelink\" rel=\"next\">More</a></td></tr>\n",
      "  </table>\n",
      "</td></tr>\n",
      "<tr><td><img src=\"s.gif\" height=\"10\" width=\"0\"><table width=\"100%\" cellspacing=\"0\" cellpadding=\"1\"><tr><td bgcolor=\"#ff6600\"></td></tr></table><br><center><a href=\"https://www.ycombinator.com/apply/\">\n",
      "        Applications are open for YC Winter 2022\n",
      "      </a></center><br><center><span class=\"yclinks\"><a href=\"newsguidelines.html\">Guidelines</a>\n",
      "        | <a href=\"newsfaq.html\">FAQ</a>\n",
      "        | <a href=\"lists\">Lists</a>\n",
      "        | <a href=\"https://github.com/HackerNews/API\">API</a>\n",
      "        | <a href=\"security.html\">Security</a>\n",
      "        | <a href=\"http://www.ycombinator.com/legal/\">Legal</a>\n",
      "        | <a href=\"http://www.ycombinator.com/apply/\">Apply to YC</a>\n",
      "        | <a href=\"mailto:hn@ycombinator.com\">Contact</a></span><br><br><form method=\"get\" action=\"//hn.algolia.com/\">Search:\n",
      "          <input type=\"text\" name=\"q\" value=\"\" size=\"17\" autocorrect=\"off\" spellcheck=\"false\" autocapitalize=\"off\" autocomplete=\"false\"></form>\n",
      "            </center></td></tr>\n",
      "      </table></center></body><script type='text/javascript' src='hn.js?FJc2HJ5ky117YsmUhGiy'></script></html>\n",
      "\n"
     ]
    }
   ],
   "source": [
    "import requests\n",
    "\n",
    "# Fetch a web page\n",
    "r = requests.get(\"https://news.ycombinator.com\")\n",
    "print(r.text)"
   ]
  },
  {
   "cell_type": "code",
   "execution_count": 5,
   "metadata": {},
   "outputs": [
    {
     "name": "stdout",
     "output_type": "stream",
     "text": [
      "\n",
      "        \n",
      "          \n",
      "        Hacker News\n",
      "        \n",
      "                  Hacker News\n",
      "              new | past | comments | ask | show | jobs | submit            \n",
      "                              login\n",
      "                          \n",
      "              \n",
      "\n",
      "              \n",
      "      1.      The US federal government has spent $6.4T dollars on the post-9/11 wars (brown.edu)\n",
      "        390 points by hncurious 3 hours ago  | hide | 319&nbsp;comments              \n",
      "      \n",
      "                \n",
      "      2.      You are quite right, and my original response was wrong. I withdraw my claim (utexas.edu)\n",
      "        208 points by woopwoop 3 hours ago  | hide | 44&nbsp;comments              \n",
      "      \n",
      "                \n",
      "      3.      Moving Avoids California Tax? Not So Fast (forbes.com/sites/robertwood)\n",
      "        40 points by dmitrygr 1 hour ago  | hide | 28&nbsp;comments              \n",
      "      \n",
      "                \n",
      "      4.      Endless Sky: an open source space trading and combat game (endless-sky.github.io)\n",
      "        105 points by blopker 3 hours ago  | hide | 38&nbsp;comments              \n",
      "      \n",
      "                \n",
      "      5.      LeafletJS: a JavaScript library for interactive maps (leafletjs.com)\n",
      "        177 points by x14km2d 4 hours ago  | hide | 46&nbsp;comments              \n",
      "      \n",
      "                \n",
      "      6.      Psst: Fast Spotify client with native GUI, without Electron, built in Rust (github.com/jpochyla)\n",
      "        130 points by tim-- 4 hours ago  | hide | 33&nbsp;comments              \n",
      "      \n",
      "                \n",
      "      7.      Pompeii’s fast food joint unearthed in 2019 opens to public (theguardian.com)\n",
      "        31 points by diodorus 1 hour ago  | hide | 7&nbsp;comments              \n",
      "      \n",
      "                \n",
      "      8.      Something is killing gray whales (latimes.com)\n",
      "        52 points by prostoalex 3 hours ago  | hide | 18&nbsp;comments              \n",
      "      \n",
      "                \n",
      "      9.      SwiftSku (YC W21) Is Hiring Gujarati Account Executives (ycombinator.com)\n",
      "        1 hour ago | hide      \n",
      "      \n",
      "                \n",
      "      10.      0 A.D. A free, open-source game of ancient warfare (play0ad.com)\n",
      "        33 points by jonbaer 2 hours ago  | hide | 6&nbsp;comments              \n",
      "      \n",
      "                \n",
      "      11.      A grim warning from Israel: Vaccination blunts, but does not defeat Delta (sciencemag.org)\n",
      "        52 points by sohkamyung 1 hour ago  | hide | 37&nbsp;comments              \n",
      "      \n",
      "                \n",
      "      12.      Alda – Text-Based Programming Language for Music Composition (alda.io)\n",
      "        387 points by p1esk 11 hours ago  | hide | 100&nbsp;comments              \n",
      "      \n",
      "                \n",
      "      13.      How did so many Dungeon Crawl: Stone Soup players miss such an obvious bug? (desystemize.substack.com)\n",
      "        9 points by luu 1 hour ago  | hide | 1&nbsp;comment              \n",
      "      \n",
      "                \n",
      "      14.      Computer simulation helps test land management techniques to help bumblebees (exeter.ac.uk)\n",
      "        117 points by rbanffy 7 hours ago  | hide | 18&nbsp;comments              \n",
      "      \n",
      "                \n",
      "      15.      Go 1.17 Release Notes (golang.org)\n",
      "        117 points by aofeisheng 7 hours ago  | hide | 95&nbsp;comments              \n",
      "      \n",
      "                \n",
      "      16.      Discontinuing FlickType Keyboard for iPhone (twitter.com/flicktype)\n",
      "        287 points by keleftheriou 9 hours ago  | hide | 94&nbsp;comments              \n",
      "      \n",
      "                \n",
      "      17.      Optical Adversarial Attack Can Change the Meaning of Road Signs (unite.ai)\n",
      "        20 points by geox 3 hours ago  | hide | 26&nbsp;comments              \n",
      "      \n",
      "                \n",
      "      18.      T-Mobile Confirms It Was Hacked (vice.com)\n",
      "        320 points by jbegley 6 hours ago  | hide | 176&nbsp;comments              \n",
      "      \n",
      "                \n",
      "      19.      To remember everything you learn, surrender to this algorithm (2008) (wired.com)\n",
      "        120 points by sanmak 8 hours ago  | hide | 65&nbsp;comments              \n",
      "      \n",
      "                \n",
      "      20.      Lumen – self-hosted Lisp for Lua and JavaScript (github.com/sctb)\n",
      "        21 points by sudobash1 3 hours ago  | hide | 1&nbsp;comment              \n",
      "      \n",
      "                \n",
      "      21.      Progress Quest (progressquest.com)\n",
      "        53 points by vector_spaces 5 hours ago  | hide | 14&nbsp;comments              \n",
      "      \n",
      "                \n",
      "      22.      A Programmer’s Introduction to Mathematics (bit-101.com)\n",
      "        310 points by ingve 14 hours ago  | hide | 88&nbsp;comments              \n",
      "      \n",
      "                \n",
      "      23.      Why is it so hard to be rational? (newyorker.com)\n",
      "        297 points by ubuwaits 13 hours ago  | hide | 266&nbsp;comments              \n",
      "      \n",
      "                \n",
      "      24.      Utilitarianism Expressed in Julia (erichgrunewald.com)\n",
      "        5 points by erwald 1 hour ago  | hide | discuss              \n",
      "      \n",
      "                \n",
      "      25.      The Federal Writers’ Project fueled the cultural ferment of the New Deal era (jacobinmag.com)\n",
      "        14 points by acsillag 3 hours ago  | hide | 2&nbsp;comments              \n",
      "      \n",
      "                \n",
      "      26.      Decoding AVIF: Deep dive with cats and imgproxy (evilmartians.com)\n",
      "        43 points by progapandist 6 hours ago  | hide | 20&nbsp;comments              \n",
      "      \n",
      "                \n",
      "      27.      Google Groups kills RSS support without notice (theregister.com)\n",
      "        45 points by samizdis 2 hours ago  | hide | 2&nbsp;comments              \n",
      "      \n",
      "                \n",
      "      28.      Object-Oriented Entity-Component-System Design (voxely.net)\n",
      "        114 points by agluszak 11 hours ago  | hide | 88&nbsp;comments              \n",
      "      \n",
      "                \n",
      "      29.      Plaid settled $58M lawsuit over alleged consumer data sharing (finledger.com)\n",
      "        226 points by exotree 9 hours ago  | hide | 134&nbsp;comments              \n",
      "      \n",
      "                \n",
      "      30.      Pico-1K Jam: Make Something Cool in Pico-8 in 1024 Characters (itch.io)\n",
      "        120 points by polm23 11 hours ago  | hide | 10&nbsp;comments              \n",
      "      \n",
      "            More\n",
      "  \n",
      "\n",
      "\n",
      "        Applications are open for YC Winter 2022\n",
      "      Guidelines\n",
      "        | FAQ\n",
      "        | Lists\n",
      "        | API\n",
      "        | Security\n",
      "        | Legal\n",
      "        | Apply to YC\n",
      "        | ContactSearch:\n",
      "          \n",
      "            \n",
      "      \n",
      "\n"
     ]
    }
   ],
   "source": [
    "import re\n",
    "\n",
    "# Remove HTML tags using RegEx\n",
    "pattern = re.compile(r'<.*?>')  # tags look like <...>\n",
    "print(pattern.sub('', r.text))  # replace them with blank"
   ]
  },
  {
   "cell_type": "code",
   "execution_count": null,
   "metadata": {},
   "outputs": [],
   "source": [
    "from bs4 import BeautifulSoup\n",
    "\n",
    "# Remove HTML tags using Beautiful Soup library\n",
    "soup = BeautifulSoup(r.text, \"html5lib\")\n",
    "print(soup.get_text())"
   ]
  },
  {
   "cell_type": "code",
   "execution_count": null,
   "metadata": {
    "scrolled": true
   },
   "outputs": [],
   "source": [
    "# Find all articles\n",
    "summaries = soup.find_all(\"tr\", class_=\"athing\")\n",
    "summaries[0]"
   ]
  },
  {
   "cell_type": "code",
   "execution_count": null,
   "metadata": {},
   "outputs": [],
   "source": [
    "# Extract title\n",
    "summaries[0].find(\"a\", class_=\"storylink\").get_text().strip()"
   ]
  },
  {
   "cell_type": "code",
   "execution_count": null,
   "metadata": {},
   "outputs": [],
   "source": [
    "# Find all articles, extract titles\n",
    "articles = []\n",
    "summaries = soup.find_all(\"tr\", class_=\"athing\")\n",
    "for summary in summaries:\n",
    "    title = summary.find(\"a\", class_=\"storylink\").get_text().strip()\n",
    "    articles.append((title))\n",
    "\n",
    "print(len(articles), \"Article summaries found. Sample:\")\n",
    "print(articles[0])"
   ]
  },
  {
   "cell_type": "markdown",
   "metadata": {
    "collapsed": true
   },
   "source": [
    "## Normalization"
   ]
  },
  {
   "cell_type": "markdown",
   "metadata": {},
   "source": [
    "### Case Normalization"
   ]
  },
  {
   "cell_type": "code",
   "execution_count": null,
   "metadata": {},
   "outputs": [],
   "source": [
    "# Sample text\n",
    "text = \"The first time you see The Second Renaissance it may look boring. Look at it at least twice and definitely watch part 2. It will change your view of the matrix. Are the human people the ones who started the war ? Is AI a bad thing ?\"\n",
    "print(text)"
   ]
  },
  {
   "cell_type": "code",
   "execution_count": null,
   "metadata": {},
   "outputs": [],
   "source": [
    "# Convert to lowercase\n",
    "text = text.lower() \n",
    "print(text)"
   ]
  },
  {
   "cell_type": "markdown",
   "metadata": {},
   "source": [
    "### Punctuation Removal"
   ]
  },
  {
   "cell_type": "code",
   "execution_count": null,
   "metadata": {},
   "outputs": [],
   "source": [
    "import re\n",
    "\n",
    "# Remove punctuation characters\n",
    "text = re.sub(r\"[^a-zA-Z0-9]\", \" \", text) \n",
    "print(text)"
   ]
  },
  {
   "cell_type": "markdown",
   "metadata": {},
   "source": [
    "## Tokenization"
   ]
  },
  {
   "cell_type": "code",
   "execution_count": null,
   "metadata": {},
   "outputs": [],
   "source": [
    "# Split text into tokens (words)\n",
    "words = text.split()\n",
    "print(words)"
   ]
  },
  {
   "cell_type": "markdown",
   "metadata": {},
   "source": [
    "### NLTK: Natural Language ToolKit"
   ]
  },
  {
   "cell_type": "code",
   "execution_count": null,
   "metadata": {},
   "outputs": [],
   "source": [
    "import os\n",
    "import nltk\n",
    "nltk.data.path.append(os.path.join(os.getcwd(), \"nltk_data\"))"
   ]
  },
  {
   "cell_type": "code",
   "execution_count": null,
   "metadata": {},
   "outputs": [],
   "source": [
    "# Another sample text\n",
    "text = \"Dr. Smith graduated from the University of Washington. He later started an analytics firm called Lux, which catered to enterprise customers.\"\n",
    "print(text)"
   ]
  },
  {
   "cell_type": "code",
   "execution_count": null,
   "metadata": {},
   "outputs": [],
   "source": [
    "from nltk.tokenize import word_tokenize\n",
    "\n",
    "# Split text into words using NLTK\n",
    "words = word_tokenize(text)\n",
    "print(words)"
   ]
  },
  {
   "cell_type": "code",
   "execution_count": null,
   "metadata": {},
   "outputs": [],
   "source": [
    "from nltk.tokenize import sent_tokenize\n",
    "\n",
    "# Split text into sentences\n",
    "sentences = sent_tokenize(text)\n",
    "print(sentences)"
   ]
  },
  {
   "cell_type": "code",
   "execution_count": null,
   "metadata": {},
   "outputs": [],
   "source": [
    "# List stop words\n",
    "from nltk.corpus import stopwords\n",
    "print(stopwords.words(\"english\"))"
   ]
  },
  {
   "cell_type": "code",
   "execution_count": null,
   "metadata": {},
   "outputs": [],
   "source": [
    "# Reset text\n",
    "text = \"The first time you see The Second Renaissance it may look boring. Look at it at least twice and definitely watch part 2. It will change your view of the matrix. Are the human people the ones who started the war ? Is AI a bad thing ?\"\n",
    "\n",
    "# Normalize it\n",
    "text = re.sub(r\"[^a-zA-Z0-9]\", \" \", text.lower())\n",
    "\n",
    "# Tokenize it\n",
    "words = text.split()\n",
    "print(words)"
   ]
  },
  {
   "cell_type": "code",
   "execution_count": null,
   "metadata": {},
   "outputs": [],
   "source": [
    "# Remove stop words\n",
    "words = [w for w in words if w not in stopwords.words(\"english\")]\n",
    "print(words)"
   ]
  },
  {
   "cell_type": "markdown",
   "metadata": {},
   "source": [
    "### Sentence Parsing"
   ]
  },
  {
   "cell_type": "code",
   "execution_count": null,
   "metadata": {},
   "outputs": [],
   "source": [
    "import nltk\n",
    "\n",
    "# Define a custom grammar\n",
    "my_grammar = nltk.CFG.fromstring(\"\"\"\n",
    "S -> NP VP\n",
    "PP -> P NP\n",
    "NP -> Det N | Det N PP | 'I'\n",
    "VP -> V NP | VP PP\n",
    "Det -> 'an' | 'my'\n",
    "N -> 'elephant' | 'pajamas'\n",
    "V -> 'shot'\n",
    "P -> 'in'\n",
    "\"\"\")\n",
    "parser = nltk.ChartParser(my_grammar)\n",
    "\n",
    "# Parse a sentence\n",
    "sentence = word_tokenize(\"I shot an elephant in my pajamas\")\n",
    "for tree in parser.parse(sentence):\n",
    "    print(tree)"
   ]
  },
  {
   "cell_type": "markdown",
   "metadata": {},
   "source": [
    "## Stemming & Lemmatization\n",
    "\n",
    "### Stemming"
   ]
  },
  {
   "cell_type": "code",
   "execution_count": null,
   "metadata": {},
   "outputs": [],
   "source": [
    "from nltk.stem.porter import PorterStemmer\n",
    "\n",
    "# Reduce words to their stems\n",
    "stemmed = [PorterStemmer().stem(w) for w in words]\n",
    "print(stemmed)"
   ]
  },
  {
   "cell_type": "markdown",
   "metadata": {},
   "source": [
    "### Lemmatization"
   ]
  },
  {
   "cell_type": "code",
   "execution_count": null,
   "metadata": {},
   "outputs": [],
   "source": [
    "from nltk.stem.wordnet import WordNetLemmatizer\n",
    "\n",
    "# Reduce words to their root form\n",
    "lemmed = [WordNetLemmatizer().lemmatize(w) for w in words]\n",
    "print(lemmed)"
   ]
  },
  {
   "cell_type": "code",
   "execution_count": null,
   "metadata": {},
   "outputs": [],
   "source": [
    "# Lemmatize verbs by specifying pos\n",
    "lemmed = [WordNetLemmatizer().lemmatize(w, pos='v') for w in lemmed]\n",
    "print(lemmed)"
   ]
  },
  {
   "cell_type": "code",
   "execution_count": null,
   "metadata": {},
   "outputs": [],
   "source": []
  }
 ],
 "metadata": {
  "kernelspec": {
   "display_name": "Python 3",
   "language": "python",
   "name": "python3"
  },
  "language_info": {
   "codemirror_mode": {
    "name": "ipython",
    "version": 3
   },
   "file_extension": ".py",
   "mimetype": "text/x-python",
   "name": "python",
   "nbconvert_exporter": "python",
   "pygments_lexer": "ipython3",
   "version": "3.6.3"
  }
 },
 "nbformat": 4,
 "nbformat_minor": 2
}
